{
 "cells": [
  {
   "cell_type": "markdown",
   "id": "7f89f5b6-69e4-4e3e-8a9f-59a6f5ff11ca",
   "metadata": {},
   "source": [
    "# Iris Dataset Using Pytorch"
   ]
  },
  {
   "cell_type": "code",
   "execution_count": 1,
   "id": "ef5b1385-5e92-494a-a865-4c076ac28daa",
   "metadata": {
    "tags": []
   },
   "outputs": [],
   "source": [
    "# importing the libs\n",
    "import pandas as pd\n",
    "import numpy as np\n",
    "import matplotlib.pyplot as plt\n",
    "\n",
    "import torch\n",
    "import torch.utils.data as d\n",
    "import torch.nn as nn\n",
    "import torch.optim as optim\n",
    "import torch.nn.functional as F\n",
    "\n",
    "from torch.utils.data import DataLoader, TensorDataset\n",
    "\n",
    "from sklearn.datasets import load_iris\n",
    "from sklearn.model_selection import train_test_split\n",
    "from sklearn.preprocessing import StandardScaler"
   ]
  },
  {
   "cell_type": "code",
   "execution_count": null,
   "id": "0e9eb675-ccb0-402d-98a5-d9751a8ae247",
   "metadata": {},
   "outputs": [
    {
     "ename": "NameError",
     "evalue": "name 'torch' is not defined",
     "output_type": "error",
     "traceback": [
      "\u001b[1;31m---------------------------------------------------------------------------\u001b[0m",
      "\u001b[1;31mNameError\u001b[0m                                 Traceback (most recent call last)",
      "Cell \u001b[1;32mIn[1], line 1\u001b[0m\n\u001b[1;32m----> 1\u001b[0m \u001b[38;5;28;01mdef\u001b[39;00m \u001b[38;5;21margmax_func\u001b[39m(tensor: \u001b[43mtorch\u001b[49m\u001b[38;5;241m.\u001b[39mtensor):\n\u001b[0;32m      2\u001b[0m     max_indices \u001b[38;5;241m=\u001b[39m torch\u001b[38;5;241m.\u001b[39mmax(tensor, \u001b[38;5;241m1\u001b[39m)\n\u001b[0;32m      3\u001b[0m     \u001b[38;5;66;03m# binary_tensor = torch.zeros_like(tensor)\u001b[39;00m\n\u001b[0;32m      4\u001b[0m     \u001b[38;5;66;03m# binary_tensor[torch.arange(len(max_indices)), max_indices] = 1\u001b[39;00m\n",
      "\u001b[1;31mNameError\u001b[0m: name 'torch' is not defined"
     ]
    }
   ],
   "source": [
    "def argmax_func(tensor: torch.tensor):\n",
    "    max_indices = torch.argmax(tensor, dim=1)\n",
    "    binary_tensor = torch.zeros_like(tensor)\n",
    "    binary_tensor[torch.arange(len(max_indices)), max_indices] = 1\n",
    "    return binary_tensor"
   ]
  },
  {
   "cell_type": "code",
   "execution_count": 2,
   "id": "7515fc3d-5f63-4ab8-823c-72f0a348730f",
   "metadata": {
    "tags": []
   },
   "outputs": [],
   "source": [
    "# Load data\n",
    "df_iris = load_iris()\n",
    "X = pd.DataFrame(df_iris.data, columns=[df_iris.feature_names])\n",
    "y = pd.Series(df_iris.target)\n",
    "\n",
    "# prepara data\n",
    "y = pd.get_dummies(y)"
   ]
  },
  {
   "cell_type": "code",
   "execution_count": 3,
   "id": "267a7fab-b282-4c67-b28c-d6cea4d3d7c5",
   "metadata": {
    "tags": []
   },
   "outputs": [],
   "source": [
    "# transforms into vectors\n",
    "X = X.values\n",
    "y = y.values"
   ]
  },
  {
   "cell_type": "code",
   "execution_count": 4,
   "id": "df1cb26d-3c97-4354-8fe9-5ab2ebd3d758",
   "metadata": {
    "tags": []
   },
   "outputs": [],
   "source": [
    "# Split in train and test\n",
    "X_train, X_test, y_train, y_test = train_test_split(X, y, random_state=42, shuffle=True, stratify=y, test_size=0.2)\n",
    "\n",
    "# normalize data\n",
    "std = StandardScaler()\n",
    "X_train = std.fit_transform(X_train)\n",
    "X_test = std.transform(X_test)"
   ]
  },
  {
   "cell_type": "code",
   "execution_count": 5,
   "id": "df80f591-194f-4f4d-8762-f574c3aee97c",
   "metadata": {
    "tags": []
   },
   "outputs": [],
   "source": [
    "# Transforms into torch tensor\n",
    "X_train = torch.tensor(X_train, dtype=torch.float64)\n",
    "X_test = torch.tensor(X_test, dtype=torch.float64)\n",
    "\n",
    "y_train = torch.tensor(y_train, dtype=torch.float64)\n",
    "y_test = torch.tensor(y_test, dtype=torch.float64)"
   ]
  },
  {
   "cell_type": "code",
   "execution_count": 6,
   "id": "0b07757f-eeea-4004-8bff-30189c9adca4",
   "metadata": {
    "tags": []
   },
   "outputs": [],
   "source": [
    "train_data = TensorDataset(X_train, y_train)\n",
    "test_data = TensorDataset(X_test, y_test)\n",
    "\n",
    "train_loader = DataLoader(train_data, shuffle=True, batch_size=12)\n",
    "test_loader = DataLoader(test_data, batch_size=len(test_data.tensors[0]))"
   ]
  },
  {
   "cell_type": "code",
   "execution_count": 7,
   "id": "d03993e9-43bc-461e-8ad4-3e2ef81eded2",
   "metadata": {
    "tags": []
   },
   "outputs": [],
   "source": [
    "# building the model\n",
    "class IrisNN(nn.Module):\n",
    "    def __init__(self, input_size, hidden_size, num_classes):\n",
    "        super(IrisNN, self).__init__()\n",
    "        self.input = nn.Linear(in_features=input_size, out_features=hidden_size)\n",
    "        self.output = nn.Linear(in_features=hidden_size, out_features=num_classes)\n",
    "\n",
    "    def forward(self, x):\n",
    "        x = F.relu(self.input(x))\n",
    "        x = F.softmax(self.output(x), dim=-1)\n",
    "        return x"
   ]
  },
  {
   "cell_type": "code",
   "execution_count": 8,
   "id": "cc162eb8-599c-4ba3-8cd6-5bd6d4d3b708",
   "metadata": {
    "tags": []
   },
   "outputs": [],
   "source": [
    "# model parameters\n",
    "INPUT_SIZE = 4\n",
    "hidden_size = 4\n",
    "NUM_CLASSES = 3\n",
    "model = IrisNN(\n",
    "    input_size=INPUT_SIZE,\n",
    "    hidden_size=hidden_size,\n",
    "    num_classes=NUM_CLASSES\n",
    ")"
   ]
  },
  {
   "cell_type": "code",
   "execution_count": 9,
   "id": "20c8eb7b-20f3-4049-86f5-533487bade36",
   "metadata": {
    "tags": []
   },
   "outputs": [
    {
     "data": {
      "text/plain": [
       "tensor([0.2752, 0.2575, 0.4673], grad_fn=<SoftmaxBackward0>)"
      ]
     },
     "execution_count": 9,
     "metadata": {},
     "output_type": "execute_result"
    }
   ],
   "source": [
    "# looking at the output of the model\n",
    "model(train_data[0][0].float())"
   ]
  },
  {
   "cell_type": "code",
   "execution_count": 10,
   "id": "95564271-19d8-47e9-a5ec-4c7932821901",
   "metadata": {
    "tags": []
   },
   "outputs": [
    {
     "name": "stdout",
     "output_type": "stream",
     "text": [
      "Tensor de entrada:\n",
      "tensor([-1.6045,  0.2177, -0.9930, -0.4926])\n",
      "Tensor de saída:\n",
      "tensor([[0.2625, 0.3209, 0.4166]], grad_fn=<SoftmaxBackward0>)\n",
      "A saída soma um: 0.9999999403953552\n"
     ]
    }
   ],
   "source": [
    "# testing the working of the model\n",
    "tensor = torch.randn(1, 4)\n",
    "print('Tensor de entrada:')\n",
    "print(tensor[0])\n",
    "print('Tensor de saída:')\n",
    "print(model(tensor))\n",
    "print(f'A saída soma um: {model(tensor).sum()}')"
   ]
  },
  {
   "cell_type": "code",
   "execution_count": 11,
   "id": "8bee5cef-7af5-48e4-9f5f-9ce9ad91f3c5",
   "metadata": {
    "tags": []
   },
   "outputs": [],
   "source": [
    "EPOCHS = 100\n",
    "learning_rate = 0.01 "
   ]
  },
  {
   "cell_type": "code",
   "execution_count": 12,
   "id": "23d4c125-bca7-45c8-ae73-8851f386e54e",
   "metadata": {
    "tags": []
   },
   "outputs": [],
   "source": [
    "loss_function = nn.CrossEntropyLoss()\n",
    "optimizer = torch.optim.Adam(params=model.parameters(), lr=learning_rate)"
   ]
  },
  {
   "cell_type": "code",
   "execution_count": 14,
   "id": "ea88aba3-cad5-4a8f-8138-95eb6740dc5b",
   "metadata": {
    "tags": []
   },
   "outputs": [],
   "source": [
    "# Valid training\n",
    "train_accuracies, test_accuracies = [], []\n",
    "loss_train = []\n",
    "# training model\n",
    "\n",
    "for epoch in range(EPOCHS):\n",
    "    # Train set\n",
    "    for X_train, y_train in train_loader:\n",
    "        preds = model(X_train.float())\n",
    "        pred_labels_train = argmax_func(preds)\n",
    "        loss = loss_function(preds, y_train)\n",
    "        loss_train.append(loss.item())\n",
    "        optimizer.zero_grad()\n",
    "        loss.backward()\n",
    "        optimizer.step()\n",
    "        \n",
    "        correct_rows_train = (y_train == pred_labels_train).all(dim=1)\n",
    "        accuracy_train = correct_rows_train.float().mean().item()\n",
    "    train_accuracies.append(accuracy_train)\n",
    "    \n",
    "    # Test set\n",
    "    X_test, y_test = next(iter(test_loader))\n",
    "    pred_labels_test = argmax_func(model(X_test.float()))\n",
    "    correct_rows_test = (y_test == pred_labels_test).all(dim=1)\n",
    "    accuracy_test = correct_rows_test.float().mean().item()\n",
    "    test_accuracies.append(accuracy_test)"
   ]
  },
  {
   "cell_type": "code",
   "execution_count": 16,
   "id": "8b9fe9af-82ee-4bd3-879f-f1e9857b57e6",
   "metadata": {
    "tags": []
   },
   "outputs": [
    {
     "data": {
      "image/png": "[encoded data removed]",
      "text/plain": [
       "<Figure size 640x480 with 3 Axes>"
      ]
     },
     "metadata": {},
     "output_type": "display_data"
    }
   ],
   "source": [
    "height_ratios = [5,3]\n",
    "width_ratios = [1,1]\n",
    "fig = plt.figure(constrained_layout=True)\n",
    "ax_dict = fig.subplot_mosaic(\n",
    "    \"AB;CC\", \n",
    "    height_ratios=height_ratios, \n",
    "    width_ratios=width_ratios\n",
    ")\n",
    "ax_dict['A'].plot(train_accuracies)\n",
    "ax_dict['A'].set_title('Train Accuracy')\n",
    "ax_dict['A'].set_xlabel('Epochs')\n",
    "ax_dict['B'].plot(loss_train,color='orange')\n",
    "ax_dict['B'].set_title('Loss Train')\n",
    "ax_dict['C'].plot(test_accuracies)\n",
    "ax_dict['C'].set_title('Test Accuracy')\n",
    "ax_dict['C'].set_xlabel('Epochs')\n",
    "plt.show()"
   ]
  },
  {
   "cell_type": "code",
   "execution_count": 26,
   "id": "92d4b692-7cce-440a-8728-923bf2db7b19",
   "metadata": {},
   "outputs": [],
   "source": [
    "# predicting a case\n",
    "with torch.no_grad():\n",
    "    payload = X_test[0]\n",
    "    predict = model(payload.float())"
   ]
  },
  {
   "cell_type": "code",
   "execution_count": 46,
   "id": "225b7c90-90c4-4ff8-b0b8-ca382f67f9c7",
   "metadata": {
    "tags": []
   },
   "outputs": [
    {
     "name": "stdout",
     "output_type": "stream",
     "text": [
      "Predict:\n",
      "tensor([0.0000, 0.2000, 0.8000])\n",
      "True Value:\n",
      "tensor([0., 0., 1.], dtype=torch.float64)\n"
     ]
    }
   ],
   "source": [
    "print('Predict:')\n",
    "print(torch.round(predict, decimals=1))\n",
    "print('True Value:')\n",
    "print(y_test[0])"
   ]
  },
  {
   "cell_type": "code",
   "execution_count": 43,
   "id": "6a84b943-0552-44dd-a7cc-213b4aa9b5ab",
   "metadata": {
    "tags": []
   },
   "outputs": [
    {
     "data": {
      "text/plain": [
       "tensor([True, True, True])"
      ]
     },
     "execution_count": 43,
     "metadata": {},
     "output_type": "execute_result"
    }
   ],
   "source": [
    "torch.round(predict) == y_test[0]"
   ]
  },
  {
   "cell_type": "code",
   "execution_count": 45,
   "id": "b76c9711-4992-46c1-8396-1430f4302a3b",
   "metadata": {
    "tags": []
   },
   "outputs": [
    {
     "data": {
      "text/plain": [
       "tensor(1.0000)"
      ]
     },
     "execution_count": 45,
     "metadata": {},
     "output_type": "execute_result"
    }
   ],
   "source": [
    "# soma um\n",
    "predict.sum()"
   ]
  },
  {
   "cell_type": "code",
   "execution_count": null,
   "id": "ed4499d5-b5b8-4e3e-a07c-9902093d2ed9",
   "metadata": {},
   "outputs": [],
   "source": []
  }
 ],
 "metadata": {
  "kernelspec": {
   "display_name": "Python 3",
   "language": "python",
   "name": "python3"
  },
  "language_info": {
   "codemirror_mode": {
    "name": "ipython",
    "version": 3
   },
   "file_extension": ".py",
   "mimetype": "text/x-python",
   "name": "python",
   "nbconvert_exporter": "python",
   "pygments_lexer": "ipython3",
   "version": "3.8.2"
  }
 },
 "nbformat": 4,
 "nbformat_minor": 5
}
