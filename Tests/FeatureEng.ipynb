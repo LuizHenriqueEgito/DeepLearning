{
 "cells": [
  {
   "cell_type": "code",
   "execution_count": 1,
   "id": "cd2dfff9-5e44-44db-825d-9e222122d651",
   "metadata": {},
   "outputs": [],
   "source": [
    "import torch\n",
    "import numpy as np\n",
    "import matplotlib.pyplot as plt\n",
    "\n",
    "import torch.nn as nn\n",
    "from torchmetrics.classification import BinaryAccuracy\n",
    "import matplotlib.pyplot as plt"
   ]
  },
  {
   "cell_type": "code",
   "execution_count": 2,
   "id": "20827f79-4673-4a29-8602-c9c5bf6bbab5",
   "metadata": {},
   "outputs": [
    {
     "data": {
      "text/plain": [
       "tensor([[0.1711, 0.7521, 0.2807, 0.9293],\n",
       "        [0.5567, 0.5810, 0.6726, 0.3451],\n",
       "        [0.2093, 0.7108, 0.7284, 0.8426]])"
      ]
     },
     "execution_count": 2,
     "metadata": {},
     "output_type": "execute_result"
    }
   ],
   "source": [
    "torch.rand(3, 4)"
   ]
  },
  {
   "cell_type": "code",
   "execution_count": 3,
   "id": "4472805e-e901-408d-b6c0-e66205861210",
   "metadata": {},
   "outputs": [],
   "source": [
    "device = 'cuda' if torch.cuda.is_available() else 'cpu'"
   ]
  },
  {
   "cell_type": "code",
   "execution_count": 4,
   "id": "b6db4062-4848-49ba-8bc0-a9f1c63e6668",
   "metadata": {},
   "outputs": [
    {
     "data": {
      "text/plain": [
       "'cuda'"
      ]
     },
     "execution_count": 4,
     "metadata": {},
     "output_type": "execute_result"
    }
   ],
   "source": [
    "device"
   ]
  },
  {
   "cell_type": "code",
   "execution_count": 5,
   "id": "95c4af2a-4e00-4e12-935f-7c99c1c9424f",
   "metadata": {},
   "outputs": [],
   "source": [
    "def generate_tensor_and_label():\n",
    "    # Gerar um tensor aleatório de shape (3, 4)\n",
    "    data = torch.rand((3, 4))\n",
    "\n",
    "    # Avaliar condições para determinar a saída 0 ou 1\n",
    "    conditions = []\n",
    "    \n",
    "    # Condição 1: Primeira coluna está aumentando?\n",
    "    conditions.append((data[0, 0] < data[1, 0] < data[2, 0]))\n",
    "\n",
    "    # Condição 2: Existe algum 1 na segunda coluna?\n",
    "    conditions.append(any(data[:, 1] > 0.5))  \n",
    "\n",
    "    # Condição 3: O último valor da terceira coluna é maior que os anteriores?\n",
    "    conditions.append(data[2, 2] > data[0, 2] and data[2, 2] > data[1, 2])\n",
    "\n",
    "    # Condição 4: O último valor da quarta coluna é menor que os anteriores?\n",
    "    conditions.append(data[2, 3] < data[0, 3] and data[2, 3] < data[1, 3])\n",
    "\n",
    "    # Se pelo menos 2 condições forem verdadeiras, classifica como 1\n",
    "    label = torch.tensor(1 if sum(conditions) >= 2 else 0)\n",
    "\n",
    "    return data, label"
   ]
  },
  {
   "cell_type": "code",
   "execution_count": 6,
   "id": "7ac749e9-8170-4ae7-a9b8-27467f3a101b",
   "metadata": {},
   "outputs": [],
   "source": [
    "def generate_samples(n: int):\n",
    "    samples = [generate_tensor_and_label() for _ in range(n)]\n",
    "    return samples"
   ]
  },
  {
   "cell_type": "code",
   "execution_count": 7,
   "id": "67ab7f4d-c1df-4088-ae0c-c2bace1aa0c4",
   "metadata": {
    "scrolled": true
   },
   "outputs": [],
   "source": [
    "samples = generate_samples(100_000)"
   ]
  },
  {
   "cell_type": "code",
   "execution_count": 8,
   "id": "692c6710-4926-413a-9d9e-6d06c0c1e98a",
   "metadata": {},
   "outputs": [],
   "source": [
    "# Função que gera os tensores com base no filtro e a média\n",
    "def filter_and_plot(samples):\n",
    "    # Separando os tensores pelos labels 0 e 1\n",
    "    label_0 = [tensor_data for tensor_data, label in samples if label.item() == 0]\n",
    "    label_1 = [tensor_data for tensor_data, label in samples if label.item() == 1]\n",
    "    \n",
    "    # Calculando a média para cada elemento (linhas e colunas) para os dois grupos\n",
    "    mean_tensor_0 = torch.mean(torch.stack(label_0), dim=0)\n",
    "    mean_tensor_1 = torch.mean(torch.stack(label_1), dim=0)\n",
    "\n",
    "    # Criando o gráfico\n",
    "    fig, axes = plt.subplots(1, 2, figsize=(12, 6))\n",
    "    \n",
    "    # Plotando o grupo 0\n",
    "    ax = axes[0]\n",
    "    ax.imshow(mean_tensor_0.numpy(), cmap='coolwarm', vmin=0, vmax=1)\n",
    "    ax.set_title('Média dos elementos para label 0')\n",
    "    ax.set_xticks(np.arange(mean_tensor_0.shape[1]))\n",
    "    ax.set_yticks(np.arange(mean_tensor_0.shape[0]))\n",
    "    \n",
    "    # Plotando o grupo 1\n",
    "    ax = axes[1]\n",
    "    ax.imshow(mean_tensor_1.numpy(), cmap='coolwarm', vmin=0, vmax=1)\n",
    "    ax.set_title('Média dos elementos para label 1')\n",
    "    ax.set_xticks(np.arange(mean_tensor_1.shape[1]))\n",
    "    ax.set_yticks(np.arange(mean_tensor_1.shape[0]))\n",
    "    \n",
    "    # Exibindo o gráfico\n",
    "    plt.show()"
   ]
  },
  {
   "cell_type": "code",
   "execution_count": 9,
   "id": "e616d479-8a6d-4a2d-9308-6ce7b2fbe013",
   "metadata": {},
   "outputs": [],
   "source": [
    "import torch\n",
    "import numpy as np\n",
    "import matplotlib.pyplot as plt\n",
    "\n",
    "# Função que gera os tensores com base no filtro e a média\n",
    "def filter_and_plot(samples):\n",
    "    # Separando os tensores pelos labels 0 e 1\n",
    "    label_0 = [tensor_data for tensor_data, label in samples if label.item() == 0]\n",
    "    label_1 = [tensor_data for tensor_data, label in samples if label.item() == 1]\n",
    "    \n",
    "    # Verifica se há tensores nos dois grupos antes de calcular a média\n",
    "    if label_0:\n",
    "        mean_tensor_0 = torch.mean(torch.stack(label_0), dim=0)\n",
    "    else:\n",
    "        mean_tensor_0 = torch.zeros_like(samples[0][0])\n",
    "\n",
    "    if label_1:\n",
    "        mean_tensor_1 = torch.mean(torch.stack(label_1), dim=0)\n",
    "    else:\n",
    "        mean_tensor_1 = torch.zeros_like(samples[0][0])\n",
    "\n",
    "    # Criando o gráfico\n",
    "    fig, axes = plt.subplots(1, 2, figsize=(12, 6))\n",
    "\n",
    "    # Definir colormap\n",
    "    cmap = \"coolwarm\"\n",
    "\n",
    "    # Determinar o range de cores comum\n",
    "    vmin = min(mean_tensor_0.min(), mean_tensor_1.min()).item()\n",
    "    vmax = max(mean_tensor_0.max(), mean_tensor_1.max()).item()\n",
    "\n",
    "    # Plotando o grupo 0\n",
    "    im0 = axes[0].imshow(mean_tensor_0.numpy(), cmap=cmap, vmin=vmin, vmax=vmax)\n",
    "    axes[0].set_title('Média dos elementos para label 0')\n",
    "    axes[0].set_xticks(np.arange(mean_tensor_0.shape[1]))\n",
    "    axes[0].set_yticks(np.arange(mean_tensor_0.shape[0]))\n",
    "\n",
    "    # Plotando o grupo 1\n",
    "    im1 = axes[1].imshow(mean_tensor_1.numpy(), cmap=cmap, vmin=vmin, vmax=vmax)\n",
    "    axes[1].set_title('Média dos elementos para label 1')\n",
    "    axes[1].set_xticks(np.arange(mean_tensor_1.shape[1]))\n",
    "    axes[1].set_yticks(np.arange(mean_tensor_1.shape[0]))\n",
    "\n",
    "    # Adicionando uma única barra de cores para os dois gráficos\n",
    "    cbar = fig.colorbar(im1, ax=axes.ravel().tolist(), fraction=0.046, pad=0.04)\n",
    "    cbar.set_label('Média dos valores')\n",
    "\n",
    "    # Exibindo o gráfico\n",
    "    plt.show()\n"
   ]
  },
  {
   "cell_type": "code",
   "execution_count": 10,
   "id": "abc0156f-ce82-44f5-a5ee-888da95a41e5",
   "metadata": {},
   "outputs": [
    {
     "data": {
      "image/png": "[encoded data removed]",
      "text/plain": [
       "<Figure size 1200x600 with 3 Axes>"
      ]
     },
     "metadata": {},
     "output_type": "display_data"
    }
   ],
   "source": [
    "# Plotar o gráfico com médias\n",
    "filter_and_plot(samples)"
   ]
  },
  {
   "cell_type": "code",
   "execution_count": 11,
   "id": "bab559cb-be74-4f0f-a60f-a5fe4b76cc5d",
   "metadata": {},
   "outputs": [],
   "source": [
    "X = [item[0] for item in samples]\n",
    "y = [item[1] for item in samples]\n",
    "\n",
    "X = torch.stack(X)\n",
    "y = torch.stack(y) "
   ]
  },
  {
   "cell_type": "code",
   "execution_count": 12,
   "id": "239906c7-ece6-4ef3-b329-3a33b62556fb",
   "metadata": {},
   "outputs": [],
   "source": [
    "X[:, :, 1] = (X[:, :, 1] > 0.6).int()"
   ]
  },
  {
   "cell_type": "code",
   "execution_count": 13,
   "id": "b1f18dd8-2339-4f07-bdb6-5948e81b4dc3",
   "metadata": {},
   "outputs": [
    {
     "data": {
      "text/plain": [
       "tensor([[0.7546, 1.0000, 0.5207, 0.5737],\n",
       "        [0.5279, 0.0000, 0.1914, 0.6450],\n",
       "        [0.2944, 0.0000, 0.0746, 0.8889]])"
      ]
     },
     "execution_count": 13,
     "metadata": {},
     "output_type": "execute_result"
    }
   ],
   "source": [
    "X[0]"
   ]
  },
  {
   "cell_type": "code",
   "execution_count": 14,
   "id": "df20b776-34ed-425e-a7aa-309141bcc093",
   "metadata": {},
   "outputs": [],
   "source": [
    "X = torch.einsum('ijk -> ikj', X)"
   ]
  },
  {
   "cell_type": "code",
   "execution_count": 15,
   "id": "72351a63-bec5-4b26-ba68-92dbcaa2e9dd",
   "metadata": {},
   "outputs": [
    {
     "data": {
      "text/plain": [
       "tensor([[0.7546, 0.5279, 0.2944],\n",
       "        [1.0000, 0.0000, 0.0000],\n",
       "        [0.5207, 0.1914, 0.0746],\n",
       "        [0.5737, 0.6450, 0.8889]])"
      ]
     },
     "execution_count": 15,
     "metadata": {},
     "output_type": "execute_result"
    }
   ],
   "source": [
    "X[0]"
   ]
  },
  {
   "cell_type": "code",
   "execution_count": 16,
   "id": "bbda98dd-5618-4e12-89d8-b4258b8494c8",
   "metadata": {},
   "outputs": [],
   "source": [
    "from torch.utils.data import TensorDataset, DataLoader"
   ]
  },
  {
   "cell_type": "code",
   "execution_count": 17,
   "id": "7492c9d1-d2f0-48dc-8b9a-ba9974af0286",
   "metadata": {},
   "outputs": [],
   "source": [
    "y = y.unsqueeze(1)\n",
    "y = y.float()"
   ]
  },
  {
   "cell_type": "code",
   "execution_count": 18,
   "id": "6620792e-7e8b-4592-a4d5-ff6245a005ec",
   "metadata": {},
   "outputs": [],
   "source": [
    "X = X.to(device)\n",
    "y = y.to(device)"
   ]
  },
  {
   "cell_type": "code",
   "execution_count": 19,
   "id": "633aa444-a67d-457f-a9c8-03f8898992e7",
   "metadata": {},
   "outputs": [],
   "source": [
    "X_train = X[:70000]\n",
    "y_train = y[:70000]\n",
    "\n",
    "X_test = X[70000:]\n",
    "y_test = y[70000:]"
   ]
  },
  {
   "cell_type": "code",
   "execution_count": 20,
   "id": "2e0696a5-38f7-49de-b17b-bd33e5c9d07d",
   "metadata": {},
   "outputs": [
    {
     "data": {
      "text/plain": [
       "True"
      ]
     },
     "execution_count": 20,
     "metadata": {},
     "output_type": "execute_result"
    }
   ],
   "source": [
    "X_train.shape[0] + X_test.shape[0] == X.shape[0]"
   ]
  },
  {
   "cell_type": "code",
   "execution_count": 21,
   "id": "dac2669c-d83b-4614-ba2e-00a3b12674a7",
   "metadata": {},
   "outputs": [],
   "source": [
    "train_dataset = TensorDataset(X_train, y_train)\n",
    "test_dataset = TensorDataset(X_test, y_test)"
   ]
  },
  {
   "cell_type": "code",
   "execution_count": 22,
   "id": "e0e86df1-13ec-4291-9867-ad72dcdabe75",
   "metadata": {},
   "outputs": [],
   "source": [
    "N = 32"
   ]
  },
  {
   "cell_type": "code",
   "execution_count": 23,
   "id": "1d66d816-4902-48cc-8509-db0dbe6e55a3",
   "metadata": {},
   "outputs": [],
   "source": [
    "train_dataloader = DataLoader(train_dataset, batch_size=N, shuffle=True)\n",
    "test_dataloader = DataLoader(test_dataset, batch_size=N, shuffle=True)"
   ]
  },
  {
   "cell_type": "code",
   "execution_count": 24,
   "id": "b816aa75-3ddf-4cc9-9e05-2a139168c84e",
   "metadata": {},
   "outputs": [
    {
     "data": {
      "text/plain": [
       "tensor([[[ 0.5442,  0.7515,  0.4059],\n",
       "         [ 0.2187,  0.0150, -0.1982],\n",
       "         [-0.4257, -0.4944, -0.4660],\n",
       "         [ 0.4538,  0.1699,  0.0901]]], device='cuda:0',\n",
       "       grad_fn=<ConvolutionBackward0>)"
      ]
     },
     "execution_count": 24,
     "metadata": {},
     "output_type": "execute_result"
    }
   ],
   "source": [
    "torch.manual_seed(42)\n",
    "_ = nn.Conv1d(in_channels=4, out_channels=4, kernel_size=3, padding='same').to(device)(X[0].unsqueeze(0))\n",
    "_"
   ]
  },
  {
   "cell_type": "code",
   "execution_count": 25,
   "id": "37c284ba-757e-4e7a-b6b8-4b90af853856",
   "metadata": {},
   "outputs": [
    {
     "data": {
      "text/plain": [
       "tensor([[[ 0.6479,  0.5787],\n",
       "         [ 0.1169, -0.0916],\n",
       "         [-0.4601, -0.4802],\n",
       "         [ 0.3118,  0.1300]]], device='cuda:0', grad_fn=<SqueezeBackward1>)"
      ]
     },
     "execution_count": 25,
     "metadata": {},
     "output_type": "execute_result"
    }
   ],
   "source": [
    "_ = nn.AvgPool1d(kernel_size=2, stride=1).to(device)(_)\n",
    "_"
   ]
  },
  {
   "cell_type": "code",
   "execution_count": 26,
   "id": "91600780-ae9b-4daa-99d9-e90ab30df960",
   "metadata": {},
   "outputs": [
    {
     "data": {
      "text/plain": [
       "tensor([[[ 0.1479, -0.2214],\n",
       "         [-0.1289, -0.1868],\n",
       "         [ 0.0900, -0.0689],\n",
       "         [-0.2393, -0.1507]]], device='cuda:0', grad_fn=<ConvolutionBackward0>)"
      ]
     },
     "execution_count": 26,
     "metadata": {},
     "output_type": "execute_result"
    }
   ],
   "source": [
    "_ = nn.Conv1d(in_channels=4, out_channels=4, kernel_size=3, padding=\"same\").to(device)(_)\n",
    "_"
   ]
  },
  {
   "cell_type": "code",
   "execution_count": 27,
   "id": "f03a6ee7-7b9b-48a3-9263-eacca973b96d",
   "metadata": {},
   "outputs": [
    {
     "data": {
      "text/plain": [
       "tensor([[[-0.0368],\n",
       "         [-0.1578],\n",
       "         [ 0.0105],\n",
       "         [-0.1950]]], device='cuda:0', grad_fn=<SqueezeBackward1>)"
      ]
     },
     "execution_count": 27,
     "metadata": {},
     "output_type": "execute_result"
    }
   ],
   "source": [
    "_ = nn.AvgPool1d(kernel_size=2, stride=1).to(device)(_)\n",
    "_"
   ]
  },
  {
   "cell_type": "code",
   "execution_count": 28,
   "id": "6f28c100-ece4-4627-9862-b21e15854ab0",
   "metadata": {},
   "outputs": [
    {
     "data": {
      "text/plain": [
       "tensor([[-0.0368, -0.1578,  0.0105, -0.1950]], device='cuda:0',\n",
       "       grad_fn=<ViewBackward0>)"
      ]
     },
     "execution_count": 28,
     "metadata": {},
     "output_type": "execute_result"
    }
   ],
   "source": [
    "_ = nn.Flatten().to(device)(_)\n",
    "_"
   ]
  },
  {
   "cell_type": "code",
   "execution_count": 29,
   "id": "3d7cc398-571d-47e2-97d1-96cddd9fbdb5",
   "metadata": {},
   "outputs": [
    {
     "data": {
      "text/plain": [
       "tensor([[ 0.1041, -0.1329,  0.0623, -0.2161]], device='cuda:0',\n",
       "       grad_fn=<AddmmBackward0>)"
      ]
     },
     "execution_count": 29,
     "metadata": {},
     "output_type": "execute_result"
    }
   ],
   "source": [
    "_ = nn.Linear(4, 4).to(device)(_)\n",
    "_"
   ]
  },
  {
   "cell_type": "code",
   "execution_count": 30,
   "id": "22d60ea1-276b-4fa0-91b6-dfa54813efad",
   "metadata": {},
   "outputs": [],
   "source": [
    "_ = nn.Linear(4, 1).to(device)(_)"
   ]
  },
  {
   "cell_type": "code",
   "execution_count": 31,
   "id": "3b9702aa-71b1-45a1-8bf9-558c54ff26bf",
   "metadata": {},
   "outputs": [
    {
     "data": {
      "text/plain": [
       "tensor([[0.4969]], device='cuda:0', grad_fn=<AddmmBackward0>)"
      ]
     },
     "execution_count": 31,
     "metadata": {},
     "output_type": "execute_result"
    }
   ],
   "source": [
    "_"
   ]
  },
  {
   "cell_type": "code",
   "execution_count": 32,
   "id": "0a000164-5bb4-4df9-b11a-ae0d1a80478c",
   "metadata": {},
   "outputs": [
    {
     "data": {
      "text/plain": [
       "tensor([[0.6217]], device='cuda:0', grad_fn=<SigmoidBackward0>)"
      ]
     },
     "execution_count": 32,
     "metadata": {},
     "output_type": "execute_result"
    }
   ],
   "source": [
    "nn.Sigmoid().to(device)(_)"
   ]
  },
  {
   "cell_type": "code",
   "execution_count": 33,
   "id": "3f2088c9-76f8-4a59-ae57-5bf2793ec3bf",
   "metadata": {},
   "outputs": [],
   "source": [
    "class FeatureEngNN(nn.Module):\n",
    "    def __init__(\n",
    "        self, \n",
    "        input_dim: int, \n",
    "        output_dim: int, \n",
    "        n_months: int,\n",
    "        dropout: float = 0.1\n",
    "    ) -> None:\n",
    "        super().__init__()\n",
    "        self.conv = nn.Sequential(\n",
    "            nn.Conv1d(\n",
    "                in_channels=input_dim,\n",
    "                out_channels=output_dim,\n",
    "                kernel_size=n_months, \n",
    "                padding='same'\n",
    "            ),\n",
    "            nn.ReLU(),\n",
    "            nn.Dropout1d(dropout),\n",
    "            nn.AvgPool1d(\n",
    "                kernel_size=2,\n",
    "                stride=1\n",
    "            ),\n",
    "            nn.Conv1d(\n",
    "                in_channels=input_dim, \n",
    "                out_channels=output_dim, \n",
    "                kernel_size=n_months, \n",
    "                padding=\"same\"\n",
    "            ),\n",
    "            nn.AvgPool1d(\n",
    "                kernel_size=2, \n",
    "                stride=1\n",
    "            ),\n",
    "            nn.ReLU(),\n",
    "            nn.Dropout1d(dropout),\n",
    "\n",
    "            nn.Flatten()\n",
    "        )\n",
    "        self.linear = nn.Sequential(\n",
    "            nn.Linear(output_dim, output_dim),\n",
    "            nn.ReLU(),\n",
    "            nn.Linear(output_dim, 4)\n",
    "        )\n",
    "        self.output_layer = nn.Sequential(\n",
    "            nn.Linear(4, 1),\n",
    "            nn.Sigmoid()\n",
    "        )\n",
    "\n",
    "    def embedding(self, x):\n",
    "        x = self.conv(x)\n",
    "        x = self.linear(x)\n",
    "        return x\n",
    "\n",
    "    def forward(self, x):\n",
    "        x = self.embedding(x)\n",
    "        x = self.output_layer(x)\n",
    "        return x"
   ]
  },
  {
   "cell_type": "code",
   "execution_count": 34,
   "id": "830f79f6-6607-4ee0-ac97-8028b7637c0a",
   "metadata": {},
   "outputs": [],
   "source": [
    "model = FeatureEngNN(\n",
    "    input_dim=4,\n",
    "    output_dim=4,\n",
    "    n_months=3\n",
    ").to(device)"
   ]
  },
  {
   "cell_type": "code",
   "execution_count": 35,
   "id": "f7279753-c143-4f3a-afd3-4d2d708864f5",
   "metadata": {},
   "outputs": [],
   "source": [
    "LR = 1e-4"
   ]
  },
  {
   "cell_type": "code",
   "execution_count": 36,
   "id": "1679891b-2008-4c12-8f5a-f8d603777136",
   "metadata": {},
   "outputs": [],
   "source": [
    "criterion = nn.BCELoss()\n",
    "optimizer = torch.optim.Adam(model.parameters(), lr=LR)"
   ]
  },
  {
   "cell_type": "code",
   "execution_count": 37,
   "id": "43ffedeb-175d-431d-ae14-28bd3b504a19",
   "metadata": {},
   "outputs": [],
   "source": [
    "EPOCHS = 100"
   ]
  },
  {
   "cell_type": "code",
   "execution_count": 38,
   "id": "afa26806-713b-4e76-ab94-582c14c9c36c",
   "metadata": {},
   "outputs": [],
   "source": [
    "accuracy_metric = BinaryAccuracy().to(device)"
   ]
  },
  {
   "cell_type": "code",
   "execution_count": 39,
   "id": "b37e1ebd-94e4-40cf-8255-e9704ff9b585",
   "metadata": {
    "scrolled": true
   },
   "outputs": [
    {
     "name": "stdout",
     "output_type": "stream",
     "text": [
      "Epoch 1/100 | Loss: 0.6873 | Accuracy: 0.548\n",
      "Epoch 2/100 | Loss: 0.6758 | Accuracy: 0.573\n",
      "Epoch 3/100 | Loss: 0.6388 | Accuracy: 0.636\n",
      "Epoch 4/100 | Loss: 0.5975 | Accuracy: 0.677\n",
      "Epoch 5/100 | Loss: 0.5719 | Accuracy: 0.697\n",
      "Epoch 6/100 | Loss: 0.5573 | Accuracy: 0.709\n",
      "Epoch 7/100 | Loss: 0.5422 | Accuracy: 0.723\n",
      "Epoch 8/100 | Loss: 0.5302 | Accuracy: 0.732\n",
      "Epoch 9/100 | Loss: 0.5250 | Accuracy: 0.737\n",
      "Epoch 10/100 | Loss: 0.5172 | Accuracy: 0.743\n",
      "Epoch 11/100 | Loss: 0.5090 | Accuracy: 0.750\n",
      "Epoch 12/100 | Loss: 0.5063 | Accuracy: 0.751\n",
      "Epoch 13/100 | Loss: 0.5041 | Accuracy: 0.753\n",
      "Epoch 14/100 | Loss: 0.5017 | Accuracy: 0.753\n",
      "Epoch 15/100 | Loss: 0.4992 | Accuracy: 0.757\n",
      "Epoch 16/100 | Loss: 0.4969 | Accuracy: 0.758\n",
      "Epoch 17/100 | Loss: 0.4947 | Accuracy: 0.760\n",
      "Epoch 18/100 | Loss: 0.4922 | Accuracy: 0.761\n",
      "Epoch 19/100 | Loss: 0.4938 | Accuracy: 0.758\n",
      "Epoch 20/100 | Loss: 0.4918 | Accuracy: 0.760\n",
      "Epoch 21/100 | Loss: 0.4891 | Accuracy: 0.763\n",
      "Epoch 22/100 | Loss: 0.4896 | Accuracy: 0.760\n",
      "Epoch 23/100 | Loss: 0.4892 | Accuracy: 0.762\n",
      "Epoch 24/100 | Loss: 0.4881 | Accuracy: 0.761\n",
      "Epoch 25/100 | Loss: 0.4885 | Accuracy: 0.762\n",
      "Epoch 26/100 | Loss: 0.4872 | Accuracy: 0.761\n",
      "Epoch 27/100 | Loss: 0.4852 | Accuracy: 0.763\n",
      "Epoch 28/100 | Loss: 0.4859 | Accuracy: 0.763\n",
      "Epoch 29/100 | Loss: 0.4858 | Accuracy: 0.763\n",
      "Epoch 30/100 | Loss: 0.4851 | Accuracy: 0.763\n",
      "Epoch 31/100 | Loss: 0.4837 | Accuracy: 0.764\n",
      "Epoch 32/100 | Loss: 0.4846 | Accuracy: 0.764\n",
      "Epoch 33/100 | Loss: 0.4836 | Accuracy: 0.763\n",
      "Epoch 34/100 | Loss: 0.4829 | Accuracy: 0.763\n",
      "Epoch 35/100 | Loss: 0.4846 | Accuracy: 0.763\n",
      "Epoch 36/100 | Loss: 0.4824 | Accuracy: 0.763\n",
      "Epoch 37/100 | Loss: 0.4823 | Accuracy: 0.765\n",
      "Epoch 38/100 | Loss: 0.4840 | Accuracy: 0.764\n",
      "Epoch 39/100 | Loss: 0.4839 | Accuracy: 0.763\n",
      "Epoch 40/100 | Loss: 0.4836 | Accuracy: 0.765\n",
      "Epoch 41/100 | Loss: 0.4831 | Accuracy: 0.763\n",
      "Epoch 42/100 | Loss: 0.4822 | Accuracy: 0.765\n",
      "Epoch 43/100 | Loss: 0.4822 | Accuracy: 0.766\n",
      "Epoch 44/100 | Loss: 0.4814 | Accuracy: 0.765\n",
      "Epoch 45/100 | Loss: 0.4824 | Accuracy: 0.766\n",
      "Epoch 46/100 | Loss: 0.4820 | Accuracy: 0.765\n",
      "Epoch 47/100 | Loss: 0.4818 | Accuracy: 0.766\n",
      "Epoch 48/100 | Loss: 0.4819 | Accuracy: 0.764\n",
      "Epoch 49/100 | Loss: 0.4804 | Accuracy: 0.766\n",
      "Epoch 50/100 | Loss: 0.4812 | Accuracy: 0.766\n",
      "Epoch 51/100 | Loss: 0.4812 | Accuracy: 0.765\n",
      "Epoch 52/100 | Loss: 0.4807 | Accuracy: 0.764\n",
      "Epoch 53/100 | Loss: 0.4792 | Accuracy: 0.768\n",
      "Epoch 54/100 | Loss: 0.4818 | Accuracy: 0.766\n",
      "Epoch 55/100 | Loss: 0.4805 | Accuracy: 0.766\n",
      "Epoch 56/100 | Loss: 0.4819 | Accuracy: 0.765\n",
      "Epoch 57/100 | Loss: 0.4803 | Accuracy: 0.767\n",
      "Epoch 58/100 | Loss: 0.4807 | Accuracy: 0.766\n",
      "Epoch 59/100 | Loss: 0.4792 | Accuracy: 0.767\n",
      "Epoch 60/100 | Loss: 0.4807 | Accuracy: 0.765\n",
      "Epoch 61/100 | Loss: 0.4788 | Accuracy: 0.767\n",
      "Epoch 62/100 | Loss: 0.4789 | Accuracy: 0.767\n",
      "Epoch 63/100 | Loss: 0.4797 | Accuracy: 0.767\n",
      "Epoch 64/100 | Loss: 0.4786 | Accuracy: 0.768\n",
      "Epoch 65/100 | Loss: 0.4776 | Accuracy: 0.769\n",
      "Epoch 66/100 | Loss: 0.4786 | Accuracy: 0.768\n",
      "Epoch 67/100 | Loss: 0.4775 | Accuracy: 0.769\n",
      "Epoch 68/100 | Loss: 0.4771 | Accuracy: 0.769\n",
      "Epoch 69/100 | Loss: 0.4768 | Accuracy: 0.769\n",
      "Epoch 70/100 | Loss: 0.4785 | Accuracy: 0.767\n",
      "Epoch 71/100 | Loss: 0.4770 | Accuracy: 0.769\n",
      "Epoch 72/100 | Loss: 0.4782 | Accuracy: 0.768\n",
      "Epoch 73/100 | Loss: 0.4760 | Accuracy: 0.770\n",
      "Epoch 74/100 | Loss: 0.4765 | Accuracy: 0.769\n",
      "Epoch 75/100 | Loss: 0.4750 | Accuracy: 0.770\n",
      "Epoch 76/100 | Loss: 0.4763 | Accuracy: 0.770\n",
      "Epoch 77/100 | Loss: 0.4764 | Accuracy: 0.768\n",
      "Epoch 78/100 | Loss: 0.4762 | Accuracy: 0.770\n",
      "Epoch 79/100 | Loss: 0.4757 | Accuracy: 0.769\n",
      "Epoch 80/100 | Loss: 0.4749 | Accuracy: 0.771\n",
      "Epoch 81/100 | Loss: 0.4745 | Accuracy: 0.771\n",
      "Epoch 82/100 | Loss: 0.4755 | Accuracy: 0.769\n",
      "Epoch 83/100 | Loss: 0.4748 | Accuracy: 0.771\n",
      "Epoch 84/100 | Loss: 0.4718 | Accuracy: 0.772\n",
      "Epoch 85/100 | Loss: 0.4735 | Accuracy: 0.771\n",
      "Epoch 86/100 | Loss: 0.4726 | Accuracy: 0.771\n",
      "Epoch 87/100 | Loss: 0.4710 | Accuracy: 0.773\n",
      "Epoch 88/100 | Loss: 0.4703 | Accuracy: 0.772\n",
      "Epoch 89/100 | Loss: 0.4713 | Accuracy: 0.772\n",
      "Epoch 90/100 | Loss: 0.4713 | Accuracy: 0.771\n",
      "Epoch 91/100 | Loss: 0.4688 | Accuracy: 0.773\n",
      "Epoch 92/100 | Loss: 0.4687 | Accuracy: 0.773\n",
      "Epoch 93/100 | Loss: 0.4683 | Accuracy: 0.773\n",
      "Epoch 94/100 | Loss: 0.4660 | Accuracy: 0.775\n",
      "Epoch 95/100 | Loss: 0.4656 | Accuracy: 0.774\n",
      "Epoch 96/100 | Loss: 0.4660 | Accuracy: 0.775\n",
      "Epoch 97/100 | Loss: 0.4627 | Accuracy: 0.776\n",
      "Epoch 98/100 | Loss: 0.4618 | Accuracy: 0.777\n",
      "Epoch 99/100 | Loss: 0.4610 | Accuracy: 0.777\n",
      "Epoch 100/100 | Loss: 0.4601 | Accuracy: 0.778\n"
     ]
    }
   ],
   "source": [
    "for epoch in range(EPOCHS):\n",
    "    model.train()\n",
    "    epoch_loss = 0\n",
    "    accuracy_metric.reset()\n",
    "    for x, y in train_dataloader:\n",
    "        y_hat = model(x)\n",
    "        loss = criterion(y_hat, y)\n",
    "        optimizer.zero_grad()\n",
    "        loss.backward()\n",
    "        optimizer.step()\n",
    "        \n",
    "        accuracy_metric.update(y_hat, y)\n",
    "        epoch_loss += loss.item()\n",
    "    epoch_accuracy = accuracy_metric.compute()\n",
    "    print(\n",
    "        f\"Epoch {epoch+1}/{EPOCHS} | \"\n",
    "        f\"Loss: {epoch_loss / len(train_dataloader):.4f} | \" \n",
    "        f\"Accuracy: {epoch_accuracy:.3f}\"\n",
    "    )"
   ]
  },
  {
   "cell_type": "code",
   "execution_count": 40,
   "id": "6590069c-7d13-4035-9fc6-9882f5300c63",
   "metadata": {},
   "outputs": [],
   "source": [
    "with torch.inference_mode():\n",
    "    model.eval()\n",
    "    embeddings = model.embedding(X_test)\n",
    "    y_pred = model(X_test)"
   ]
  },
  {
   "cell_type": "code",
   "execution_count": 41,
   "id": "f3ff0d2f-07b0-48bb-ad6c-70fa7c328945",
   "metadata": {},
   "outputs": [
    {
     "data": {
      "text/plain": [
       "tensor([[0.5758],\n",
       "        [0.2221],\n",
       "        [0.0676],\n",
       "        ...,\n",
       "        [0.7886],\n",
       "        [0.9755],\n",
       "        [0.3283]], device='cuda:0')"
      ]
     },
     "execution_count": 41,
     "metadata": {},
     "output_type": "execute_result"
    }
   ],
   "source": [
    "y_pred"
   ]
  },
  {
   "cell_type": "code",
   "execution_count": 42,
   "id": "5af8dc90-a7e6-45b4-af40-64b216635c1a",
   "metadata": {},
   "outputs": [
    {
     "data": {
      "text/plain": [
       "tensor([[1.],\n",
       "        [0.],\n",
       "        [0.],\n",
       "        ...,\n",
       "        [1.],\n",
       "        [1.],\n",
       "        [0.]], device='cuda:0')"
      ]
     },
     "execution_count": 42,
     "metadata": {},
     "output_type": "execute_result"
    }
   ],
   "source": [
    "y_test"
   ]
  },
  {
   "cell_type": "code",
   "execution_count": 43,
   "id": "3f3dfeaa-6c81-4c18-a7bc-b8a4ed8f098e",
   "metadata": {},
   "outputs": [
    {
     "data": {
      "text/plain": [
       "tensor([[-0.3797,  0.2918, -0.7114,  0.3193],\n",
       "        [-0.7211, -0.1198, -0.5718,  0.7489],\n",
       "        [-1.0330, -0.4707, -0.4975,  1.1470],\n",
       "        ...,\n",
       "        [-0.1670,  0.5669, -0.8380,  0.0559],\n",
       "        [ 0.3257,  1.2173, -1.1589, -0.5510],\n",
       "        [-0.5988,  0.0177, -0.6009,  0.5928]], device='cuda:0')"
      ]
     },
     "execution_count": 43,
     "metadata": {},
     "output_type": "execute_result"
    }
   ],
   "source": [
    "embeddings"
   ]
  },
  {
   "cell_type": "code",
   "execution_count": 44,
   "id": "a94c38ff-8503-4314-a533-9702272e70b7",
   "metadata": {},
   "outputs": [],
   "source": [
    "y_true = y_test.cpu().numpy()\n",
    "embeddings = embeddings.cpu().numpy()"
   ]
  },
  {
   "cell_type": "code",
   "execution_count": 53,
   "id": "0c9e197f-5cf5-4e9b-a21b-45cf7b4516c3",
   "metadata": {},
   "outputs": [],
   "source": [
    "import matplotlib.colors as mcolors\n",
    "colors = ['blue', 'red']\n",
    "cmap = mcolors.ListedColormap(colors)"
   ]
  },
  {
   "cell_type": "code",
   "execution_count": 58,
   "id": "5941389c-6965-45b9-afa8-e21e1bc6384c",
   "metadata": {},
   "outputs": [
    {
     "data": {
      "image/png": "[encoded data removed]",
      "text/plain": [
       "<Figure size 640x480 with 1 Axes>"
      ]
     },
     "metadata": {},
     "output_type": "display_data"
    }
   ],
   "source": [
    "fig, ax = plt.subplots()\n",
    "ax.scatter(\n",
    "    embeddings[:, 0], \n",
    "    embeddings[:, 1], \n",
    "    c=y_true, \n",
    "    cmap=cmap,\n",
    "    alpha=0.1\n",
    ")\n",
    "ax.grid(True, linestyle=':')\n",
    "plt.show()"
   ]
  },
  {
   "cell_type": "code",
   "execution_count": 59,
   "id": "0b2bd9b3-069b-4245-ac35-6fadaa2b2b99",
   "metadata": {},
   "outputs": [
    {
     "data": {
      "image/png": "[encoded data removed]",
      "text/plain": [
       "<Figure size 640x480 with 1 Axes>"
      ]
     },
     "metadata": {},
     "output_type": "display_data"
    }
   ],
   "source": [
    "fig, ax = plt.subplots()\n",
    "ax.scatter(\n",
    "    embeddings[:, 1], \n",
    "    embeddings[:, 2], \n",
    "    c=y_true, \n",
    "    cmap=cmap,\n",
    "    alpha=0.1\n",
    ")\n",
    "ax.grid(True, linestyle=':')\n",
    "plt.show()"
   ]
  },
  {
   "cell_type": "code",
   "execution_count": 60,
   "id": "2b0394fb-43d5-4b40-9b91-53f268077716",
   "metadata": {},
   "outputs": [
    {
     "data": {
      "image/png": "[encoded data removed]",
      "text/plain": [
       "<Figure size 640x480 with 1 Axes>"
      ]
     },
     "metadata": {},
     "output_type": "display_data"
    }
   ],
   "source": [
    "fig, ax = plt.subplots()\n",
    "ax.scatter(\n",
    "    embeddings[:, 2], \n",
    "    embeddings[:, 3], \n",
    "    c=y_true, \n",
    "    cmap=cmap,\n",
    "    alpha=0.1\n",
    ")\n",
    "ax.grid(True, linestyle=':')\n",
    "plt.show()"
   ]
  },
  {
   "cell_type": "code",
   "execution_count": null,
   "id": "0411bf38-16df-4dbc-8c25-4930833e8805",
   "metadata": {},
   "outputs": [],
   "source": []
  }
 ],
 "metadata": {
  "kernelspec": {
   "display_name": "Python 3",
   "language": "python",
   "name": "python3"
  },
  "language_info": {
   "codemirror_mode": {
    "name": "ipython",
    "version": 3
   },
   "file_extension": ".py",
   "mimetype": "text/x-python",
   "name": "python",
   "nbconvert_exporter": "python",
   "pygments_lexer": "ipython3",
   "version": "3.10.10"
  }
 },
 "nbformat": 4,
 "nbformat_minor": 5
}
