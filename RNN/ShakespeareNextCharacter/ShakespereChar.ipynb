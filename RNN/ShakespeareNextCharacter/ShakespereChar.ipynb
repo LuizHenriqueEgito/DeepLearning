{
 "cells": [
  {
   "cell_type": "code",
   "execution_count": 1,
   "id": "3a88f5d0-bb2f-4b8a-8939-6d60dae17840",
   "metadata": {},
   "outputs": [],
   "source": [
    "import urllib.request"
   ]
  },
  {
   "cell_type": "code",
   "execution_count": 2,
   "id": "cfdc3e23-b2c9-447c-b28e-26c513131cf2",
   "metadata": {},
   "outputs": [],
   "source": [
    "import torch.nn as nn"
   ]
  },
  {
   "cell_type": "code",
   "execution_count": 3,
   "id": "a7de170e-be67-41a4-bcf6-aec31f3044be",
   "metadata": {},
   "outputs": [],
   "source": [
    "import time\n",
    "import random\n",
    "import unidecode\n",
    "import string\n",
    "import re\n",
    "\n",
    "import matplotlib.pyplot as plt\n",
    "import torch\n",
    "\n",
    "torch.backends.cudnn.deterministic = True"
   ]
  },
  {
   "cell_type": "code",
   "execution_count": 4,
   "id": "4815c372-b261-451f-8594-122241d54f16",
   "metadata": {},
   "outputs": [],
   "source": [
    "import numpy as np"
   ]
  },
  {
   "cell_type": "code",
   "execution_count": 5,
   "id": "8e270bd0-eae2-43d1-b377-8447463d8a13",
   "metadata": {},
   "outputs": [
    {
     "name": "stdout",
     "output_type": "stream",
     "text": [
      "Device: cuda\n"
     ]
    }
   ],
   "source": [
    "RANDOM_SEED = 123\n",
    "torch.manual_seed(RANDOM_SEED)\n",
    "\n",
    "DEVICE = torch.device(\"cuda\" if torch.cuda.is_available() else \"cpu\")\n",
    "# DEVICE = torch.device(\"cpu\" if torch.cuda.is_available() else \"cpu\")\n",
    "TEXT_PORTION_SIZE = 200\n",
    "\n",
    "NUM_ITER = 5000\n",
    "LEARNING_RATE = 0.005\n",
    "EMBEDDING_DIM = 32\n",
    "HIDDEN_DIM = 100\n",
    "NUM_HIDDEN_LAYERS = 1\n",
    "\n",
    "print('Device:', DEVICE)"
   ]
  },
  {
   "cell_type": "code",
   "execution_count": 6,
   "id": "7755a73e-a4ff-4e2c-a674-e91c8b3d8465",
   "metadata": {},
   "outputs": [
    {
     "data": {
      "text/plain": [
       "'0123456789abcdefghijklmnopqrstuvwxyzABCDEFGHIJKLMNOPQRSTUVWXYZ!\"#$%&\\'()*+,-./:;<=>?@[\\\\]^_`{|}~ \\t\\n\\r\\x0b\\x0c'"
      ]
     },
     "execution_count": 6,
     "metadata": {},
     "output_type": "execute_result"
    }
   ],
   "source": [
    "string.printable"
   ]
  },
  {
   "cell_type": "code",
   "execution_count": 7,
   "id": "8b6bf9c2-dc23-47ae-8f27-7216c5a087f8",
   "metadata": {},
   "outputs": [],
   "source": [
    "shakespeare_url = \"https://homl.info/shakespeare\""
   ]
  },
  {
   "cell_type": "code",
   "execution_count": 8,
   "id": "e6450130-4e8a-4540-bb9f-1d5ab3caad48",
   "metadata": {},
   "outputs": [],
   "source": [
    "def get_file(url: str) -> str:\n",
    "    urllib.request.urlretrieve(shakespeare_url, \"shakespeare.txt\")\n",
    "    with open(\"shakespeare.txt\", \"r\") as f:\n",
    "        shakespeare_text = f.read()\n",
    "    return shakespeare_text"
   ]
  },
  {
   "cell_type": "code",
   "execution_count": 9,
   "id": "467dc287-5cf7-4bae-8453-4426de7f4fe6",
   "metadata": {},
   "outputs": [],
   "source": [
    "shakespeare_text = get_file(url=shakespeare_url)"
   ]
  },
  {
   "cell_type": "code",
   "execution_count": 10,
   "id": "f932fa54-1d79-4ae1-8645-8b21ff4bed02",
   "metadata": {},
   "outputs": [
    {
     "data": {
      "text/plain": [
       "'First Citizen:\\nBefore we proceed any further, hear me speak.\\n\\nAll:\\nSpeak, speak.'"
      ]
     },
     "execution_count": 10,
     "metadata": {},
     "output_type": "execute_result"
    }
   ],
   "source": [
    "shakespeare_text[:80]"
   ]
  },
  {
   "cell_type": "code",
   "execution_count": 11,
   "id": "36c0a67a-bd45-419b-bb21-b88627388548",
   "metadata": {},
   "outputs": [
    {
     "data": {
      "text/plain": [
       "'First Citizen:\\nBefore we proceed any further, hear me speak.\\n\\nAll:\\nSpeak, speak.'"
      ]
     },
     "execution_count": 11,
     "metadata": {},
     "output_type": "execute_result"
    }
   ],
   "source": [
    "# Arrumando acentos\n",
    "shakespeare_text = unidecode.unidecode(shakespeare_text)\n",
    "shakespeare_text[:80]"
   ]
  },
  {
   "cell_type": "code",
   "execution_count": 12,
   "id": "b126c131-e62f-4162-ae99-ebaebc6d98d4",
   "metadata": {},
   "outputs": [],
   "source": [
    "# Arrumando espaços\n",
    "shakespeare_text = re.sub(' +', ' ', shakespeare_text)\n",
    "TEXT_LENGTH = len(shakespeare_text)"
   ]
  },
  {
   "cell_type": "code",
   "execution_count": 13,
   "id": "242e564c-3792-4e20-a759-7c5052abad99",
   "metadata": {},
   "outputs": [
    {
     "name": "stdout",
     "output_type": "stream",
     "text": [
      "d ash an hundred times hath broke\n",
      "And scarr'd the moon with splinters: here I clip\n",
      "The anvil of my sword, and do contest\n",
      "As hotly and as nobly with thy love\n",
      "As ever in ambitious strength I did\n",
      "Contend \n"
     ]
    }
   ],
   "source": [
    "random.seed(RANDOM_SEED)\n",
    "def random_portion(textfile):\n",
    "    start_index = random.randint(0, TEXT_LENGTH - TEXT_PORTION_SIZE)\n",
    "    end_index = start_index + TEXT_PORTION_SIZE + 1\n",
    "    return textfile[start_index:end_index]\n",
    "\n",
    "print(random_portion(shakespeare_text))"
   ]
  },
  {
   "cell_type": "code",
   "execution_count": 14,
   "id": "78719107-2f1c-463b-87e2-5298548f079b",
   "metadata": {},
   "outputs": [
    {
     "name": "stdout",
     "output_type": "stream",
     "text": [
      "tensor([10, 11, 12, 94, 39, 40, 41])\n"
     ]
    }
   ],
   "source": [
    "def char_to_tensor(text):\n",
    "    lst = [string.printable.index(c) for c in text]\n",
    "    tensor = torch.tensor(lst).long()\n",
    "    return tensor\n",
    "\n",
    "print(char_to_tensor('abc DEF'))"
   ]
  },
  {
   "cell_type": "code",
   "execution_count": 15,
   "id": "464a753b-f45d-4e5d-ba41-056920e743a7",
   "metadata": {},
   "outputs": [],
   "source": [
    "def draw_random_sample(textfile):    \n",
    "    text_long = char_to_tensor(random_portion(textfile))\n",
    "    inputs = text_long[:-1]\n",
    "    targets = text_long[1:]\n",
    "    return inputs, targets"
   ]
  },
  {
   "cell_type": "code",
   "execution_count": 16,
   "id": "a1c74b5f-ed69-42af-9fc8-c98fa0b95e13",
   "metadata": {},
   "outputs": [
    {
     "data": {
      "text/plain": [
       "(tensor([14, 21, 21, 77, 94, 11, 30, 34, 94, 15, 24, 24, 13, 73, 94, 10, 23, 13,\n",
       "         94, 16, 14, 29, 94, 29, 17, 34, 28, 14, 21, 15, 94, 18, 23, 94, 15, 21,\n",
       "         14, 28, 17, 75, 96, 38, 24, 22, 14, 73, 94, 12, 24, 27, 13, 18, 10, 21,\n",
       "         94, 10, 23, 13, 94, 23, 24, 29, 94, 25, 24, 18, 28, 24, 23, 73, 94, 16,\n",
       "         24, 94, 32, 18, 29, 17, 94, 22, 14, 96, 55, 24, 94, 45, 30, 21, 18, 14,\n",
       "         29, 68, 28, 94, 16, 27, 10, 31, 14, 78, 94, 15, 24, 27, 94, 29, 17, 14,\n",
       "         27, 14, 94, 22, 30, 28, 29, 94, 44, 94, 30, 28, 14, 94, 29, 17, 14, 14,\n",
       "         75, 96, 96, 41, 53, 44, 36, 53, 94, 45, 50, 43, 49, 77, 96, 43, 24, 21,\n",
       "         34, 94, 41, 27, 10, 23, 12, 18, 28, 12, 10, 23, 94, 15, 27, 18, 10, 27,\n",
       "         62, 94, 11, 27, 24, 29, 17, 14, 27, 73, 94, 17, 24, 62, 96, 96, 41, 53,\n",
       "         44, 36, 53, 94, 47, 36, 56, 53, 40, 49, 38, 40, 77, 96, 55, 17, 18, 28,\n",
       "         94, 28]),\n",
       " tensor([21, 21, 77, 94, 11, 30, 34, 94, 15, 24, 24, 13, 73, 94, 10, 23, 13, 94,\n",
       "         16, 14, 29, 94, 29, 17, 34, 28, 14, 21, 15, 94, 18, 23, 94, 15, 21, 14,\n",
       "         28, 17, 75, 96, 38, 24, 22, 14, 73, 94, 12, 24, 27, 13, 18, 10, 21, 94,\n",
       "         10, 23, 13, 94, 23, 24, 29, 94, 25, 24, 18, 28, 24, 23, 73, 94, 16, 24,\n",
       "         94, 32, 18, 29, 17, 94, 22, 14, 96, 55, 24, 94, 45, 30, 21, 18, 14, 29,\n",
       "         68, 28, 94, 16, 27, 10, 31, 14, 78, 94, 15, 24, 27, 94, 29, 17, 14, 27,\n",
       "         14, 94, 22, 30, 28, 29, 94, 44, 94, 30, 28, 14, 94, 29, 17, 14, 14, 75,\n",
       "         96, 96, 41, 53, 44, 36, 53, 94, 45, 50, 43, 49, 77, 96, 43, 24, 21, 34,\n",
       "         94, 41, 27, 10, 23, 12, 18, 28, 12, 10, 23, 94, 15, 27, 18, 10, 27, 62,\n",
       "         94, 11, 27, 24, 29, 17, 14, 27, 73, 94, 17, 24, 62, 96, 96, 41, 53, 44,\n",
       "         36, 53, 94, 47, 36, 56, 53, 40, 49, 38, 40, 77, 96, 55, 17, 18, 28, 94,\n",
       "         28, 10]))"
      ]
     },
     "execution_count": 16,
     "metadata": {},
     "output_type": "execute_result"
    }
   ],
   "source": [
    "draw_random_sample(shakespeare_text)"
   ]
  },
  {
   "cell_type": "code",
   "execution_count": 58,
   "id": "64be4069-f42e-4975-8585-8818db437db9",
   "metadata": {},
   "outputs": [],
   "source": [
    "class ShakespeareNN(nn.Module):\n",
    "    def __init__(self, input_size, hidden_size, output_size, num_layers, vocab_size, embedding_dim):\n",
    "        super(ShakespeareNN, self).__init__()\n",
    "        self.hidden_size = hidden_size\n",
    "        self.embedding = nn.Embedding(vocab_size, embedding_dim)\n",
    "        self.lstm = nn.LSTM(input_size=embedding_dim, hidden_size=hidden_size, num_layers=num_layers, batch_first=True)\n",
    "        self.fc = nn.Linear(hidden_size, output_size)\n",
    "        self.hidden_cell_state_ = self.hidden_cell_state()\n",
    "\n",
    "    def forward(self, x):\n",
    "        embedded = self.embedding(x)\n",
    "        lstm_out, self.hidden_cell_state_ = self.lstm(embedded, (self.hidden_cell_state_[0].detach(), self.hidden_cell_state_[1].detach()))\n",
    "        output = self.fc(lstm_out.view(len(x), -1))\n",
    "        return output\n",
    "\n",
    "    def hidden_cell_state(self):\n",
    "        return (torch.zeros(1, self.hidden_size).to(DEVICE),\n",
    "                torch.zeros(1, self.hidden_size).to(DEVICE))\n",
    "\n",
    "    def reset_hidden_cell_state(self):\n",
    "        self.hidden_cell_state_ = self.hidden_cell_state()"
   ]
  },
  {
   "cell_type": "code",
   "execution_count": 59,
   "id": "8fd11107-f868-4678-8331-c1bcf22b823f",
   "metadata": {},
   "outputs": [
    {
     "data": {
      "text/plain": [
       "ShakespeareNN(\n",
       "  (embedding): Embedding(100, 16)\n",
       "  (lstm): LSTM(16, 100, batch_first=True)\n",
       "  (fc): Linear(in_features=100, out_features=100, bias=True)\n",
       ")"
      ]
     },
     "execution_count": 59,
     "metadata": {},
     "output_type": "execute_result"
    }
   ],
   "source": [
    "# Exemplo de uso:\n",
    "input_size = 1  # Tamanho do vetor de entrada\n",
    "hidden_size = 100  # Tamanho do estado oculto\n",
    "output_size = len(string.printable)  # Tamanho da saída\n",
    "vocab_size = len(string.printable)  # Tamanho do vocabulário\n",
    "embedding_dim = 16  # Dimensão do embedding\n",
    "num_layers = 1  # Numero de Layers\n",
    "\n",
    "model = ShakespeareNN(input_size, hidden_size, output_size, num_layers, vocab_size, embedding_dim)\n",
    "model.to(DEVICE)"
   ]
  },
  {
   "cell_type": "code",
   "execution_count": 60,
   "id": "1b7cbf00-1c55-4fd3-b627-b361b2ae35bf",
   "metadata": {},
   "outputs": [
    {
     "data": {
      "text/plain": [
       "tensor([[ 0.0090,  0.0016, -0.0620, -0.0307, -0.0422, -0.0666,  0.0491, -0.1222,\n",
       "          0.0696,  0.0499, -0.0030,  0.0231,  0.0220, -0.0583, -0.0425,  0.0257,\n",
       "         -0.0518,  0.1223, -0.0517,  0.0364, -0.0372, -0.0830,  0.0694, -0.0056,\n",
       "         -0.0036, -0.0654,  0.0876, -0.0641, -0.0042,  0.0291,  0.0100,  0.0322,\n",
       "          0.0233,  0.0022, -0.0158, -0.0163, -0.0137, -0.0977,  0.0660, -0.0255,\n",
       "          0.0660,  0.1028, -0.0628, -0.0365,  0.0395, -0.1224,  0.0175,  0.0816,\n",
       "         -0.1291,  0.0394,  0.1464,  0.0295, -0.0786,  0.1839,  0.0339, -0.0706,\n",
       "          0.0159, -0.0502,  0.0213,  0.0537, -0.1186,  0.0161, -0.0175,  0.0413,\n",
       "         -0.0731,  0.0613, -0.0320, -0.1017, -0.0231,  0.0884, -0.0652,  0.0055,\n",
       "          0.0869, -0.0353,  0.0329, -0.0187,  0.0397,  0.0199, -0.0074,  0.1265,\n",
       "          0.0716, -0.0840, -0.0160, -0.0889,  0.1171, -0.0510, -0.1346,  0.0771,\n",
       "          0.0244, -0.0896,  0.0903,  0.1437, -0.0109,  0.1401,  0.0221,  0.0603,\n",
       "          0.0516,  0.0573, -0.0037, -0.0166]], device='cuda:0',\n",
       "       grad_fn=<AddmmBackward0>)"
      ]
     },
     "execution_count": 60,
     "metadata": {},
     "output_type": "execute_result"
    }
   ],
   "source": [
    "tensor = torch.tensor([7], dtype=torch.long).to(DEVICE)\n",
    "model(tensor)"
   ]
  },
  {
   "cell_type": "code",
   "execution_count": 61,
   "id": "180715e8-e3b0-4757-b345-6e034dd7cb25",
   "metadata": {},
   "outputs": [
    {
     "data": {
      "text/plain": [
       "(tensor([[ 1.1353e-01,  4.6979e-02,  1.1700e-01,  4.0157e-02, -4.4857e-02,\n",
       "           8.6757e-02,  1.0846e-04, -2.2924e-03,  4.0268e-02, -4.3255e-02,\n",
       "           9.2802e-02,  2.2757e-02,  4.6801e-02,  4.7570e-02, -4.8089e-02,\n",
       "          -2.3501e-02,  4.5936e-03,  6.7271e-02,  5.3817e-02, -1.2106e-02,\n",
       "           3.6808e-02,  1.1109e-01, -1.5398e-02,  1.9584e-02,  1.4579e-01,\n",
       "          -1.0203e-01, -5.2447e-02, -6.0294e-02, -8.5877e-02,  6.8984e-02,\n",
       "          -8.0224e-02, -3.0361e-02, -1.8971e-02, -4.1003e-02, -1.1346e-02,\n",
       "          -3.2421e-02, -5.1200e-02, -4.3111e-03,  4.1932e-02,  5.5154e-02,\n",
       "          -4.8496e-02, -8.2797e-02, -5.4672e-02,  9.2357e-02, -1.4119e-03,\n",
       "           2.6061e-02, -1.4956e-02,  4.6512e-02, -7.2972e-03,  8.3639e-02,\n",
       "           1.0197e-01,  6.3339e-02, -1.6508e-02, -4.0084e-02, -1.8759e-03,\n",
       "           2.2219e-02, -4.0603e-02, -3.3232e-02,  4.0207e-02, -6.7772e-02,\n",
       "          -3.2455e-02, -7.2098e-02, -7.3112e-02,  9.1809e-02, -3.4929e-02,\n",
       "          -4.4968e-02, -5.0289e-02,  8.4122e-02, -4.5503e-02,  2.2920e-02,\n",
       "           1.2272e-01, -9.0224e-02, -1.7814e-03, -3.9433e-02,  3.1980e-02,\n",
       "          -5.4300e-02,  1.3387e-02,  6.1300e-02,  3.3184e-02, -4.7189e-02,\n",
       "          -2.7100e-02, -1.0785e-01,  4.9865e-02, -4.8226e-02,  4.0747e-02,\n",
       "           1.0721e-01,  3.4192e-02,  5.8793e-03, -1.1104e-02, -3.2140e-02,\n",
       "          -2.7156e-02, -4.6621e-02, -7.5747e-02, -6.2206e-02, -7.8109e-02,\n",
       "           5.7897e-02, -3.8636e-02, -6.9995e-02, -1.2009e-01, -4.8306e-02]],\n",
       "        device='cuda:0', grad_fn=<SqueezeBackward1>),\n",
       " tensor([[ 1.8179e-01,  1.0027e-01,  2.0728e-01,  1.0215e-01, -1.0387e-01,\n",
       "           1.8177e-01,  2.3532e-04, -5.0140e-03,  7.7689e-02, -8.5904e-02,\n",
       "           2.1159e-01,  5.1436e-02,  1.0291e-01,  1.1226e-01, -1.0027e-01,\n",
       "          -5.0648e-02,  9.0178e-03,  1.1266e-01,  1.0473e-01, -2.0888e-02,\n",
       "           8.2423e-02,  2.2586e-01, -3.0001e-02,  3.7250e-02,  2.3009e-01,\n",
       "          -2.0465e-01, -9.9723e-02, -1.3288e-01, -1.9790e-01,  2.3615e-01,\n",
       "          -1.3479e-01, -6.5851e-02, -4.1987e-02, -9.5704e-02, -2.1299e-02,\n",
       "          -7.4293e-02, -9.0647e-02, -8.1696e-03,  8.6741e-02,  1.0485e-01,\n",
       "          -8.6893e-02, -1.5944e-01, -1.5396e-01,  2.0139e-01, -2.8955e-03,\n",
       "           4.5005e-02, -2.4469e-02,  9.2521e-02, -1.4065e-02,  1.3278e-01,\n",
       "           1.9204e-01,  1.2185e-01, -2.8827e-02, -9.2662e-02, -4.2625e-03,\n",
       "           3.9192e-02, -7.0288e-02, -8.1617e-02,  7.0065e-02, -1.4125e-01,\n",
       "          -7.2723e-02, -1.4625e-01, -1.8833e-01,  2.3275e-01, -7.1090e-02,\n",
       "          -9.8317e-02, -9.2838e-02,  1.4158e-01, -9.6257e-02,  5.3003e-02,\n",
       "           2.4872e-01, -1.5940e-01, -3.7506e-03, -6.7858e-02,  6.7312e-02,\n",
       "          -8.7300e-02,  2.5675e-02,  1.5086e-01,  6.4689e-02, -9.6854e-02,\n",
       "          -4.6615e-02, -2.1189e-01,  1.1103e-01, -9.8300e-02,  7.1696e-02,\n",
       "           2.0783e-01,  6.3023e-02,  1.3830e-02, -2.4972e-02, -6.6711e-02,\n",
       "          -6.0114e-02, -1.0859e-01, -1.3228e-01, -1.2842e-01, -1.5978e-01,\n",
       "           1.2770e-01, -7.8634e-02, -1.2287e-01, -2.1361e-01, -1.2406e-01]],\n",
       "        device='cuda:0', grad_fn=<SqueezeBackward1>))"
      ]
     },
     "execution_count": 61,
     "metadata": {},
     "output_type": "execute_result"
    }
   ],
   "source": [
    "model.hidden_cell_state_"
   ]
  },
  {
   "cell_type": "code",
   "execution_count": 62,
   "id": "7adfb0f3-dd1b-48cc-a53f-b56fa27d93d5",
   "metadata": {},
   "outputs": [
    {
     "data": {
      "text/plain": [
       "(tensor([[0., 0., 0., 0., 0., 0., 0., 0., 0., 0., 0., 0., 0., 0., 0., 0., 0., 0., 0., 0., 0., 0., 0., 0.,\n",
       "          0., 0., 0., 0., 0., 0., 0., 0., 0., 0., 0., 0., 0., 0., 0., 0., 0., 0., 0., 0., 0., 0., 0., 0.,\n",
       "          0., 0., 0., 0., 0., 0., 0., 0., 0., 0., 0., 0., 0., 0., 0., 0., 0., 0., 0., 0., 0., 0., 0., 0.,\n",
       "          0., 0., 0., 0., 0., 0., 0., 0., 0., 0., 0., 0., 0., 0., 0., 0., 0., 0., 0., 0., 0., 0., 0., 0.,\n",
       "          0., 0., 0., 0.]], device='cuda:0'),\n",
       " tensor([[0., 0., 0., 0., 0., 0., 0., 0., 0., 0., 0., 0., 0., 0., 0., 0., 0., 0., 0., 0., 0., 0., 0., 0.,\n",
       "          0., 0., 0., 0., 0., 0., 0., 0., 0., 0., 0., 0., 0., 0., 0., 0., 0., 0., 0., 0., 0., 0., 0., 0.,\n",
       "          0., 0., 0., 0., 0., 0., 0., 0., 0., 0., 0., 0., 0., 0., 0., 0., 0., 0., 0., 0., 0., 0., 0., 0.,\n",
       "          0., 0., 0., 0., 0., 0., 0., 0., 0., 0., 0., 0., 0., 0., 0., 0., 0., 0., 0., 0., 0., 0., 0., 0.,\n",
       "          0., 0., 0., 0.]], device='cuda:0'))"
      ]
     },
     "execution_count": 62,
     "metadata": {},
     "output_type": "execute_result"
    }
   ],
   "source": [
    "model.reset_hidden_cell_state()\n",
    "model.hidden_cell_state_"
   ]
  },
  {
   "cell_type": "code",
   "execution_count": 26,
   "id": "b188e2c6-c797-4d17-bd9e-b556f5b0f33a",
   "metadata": {},
   "outputs": [],
   "source": [
    "optimizer = torch.optim.Adam(model.parameters(), lr=LEARNING_RATE)"
   ]
  },
  {
   "cell_type": "code",
   "execution_count": 27,
   "id": "d0ad5365-0506-4e5d-879a-a0ea5d78b9de",
   "metadata": {},
   "outputs": [],
   "source": [
    "def evaluate(model, prime_str='A', predict_len=100, temperature=0.8):\n",
    "    prime_input = char_to_tensor(prime_str)\n",
    "    predicted = prime_str\n",
    "\n",
    "    inp = prime_input[-1]\n",
    "    \n",
    "    for p in range(predict_len):\n",
    "        output = model(inp.view(1).to(DEVICE))\n",
    "        \n",
    "        # Sample from the network as a multinomial distribution\n",
    "        output_dist = output.data.view(-1).div(temperature).exp()\n",
    "        top_i = torch.multinomial(output_dist, 1)[0]\n",
    "        \n",
    "        # Add predicted character to string and use as next input\n",
    "        predicted_char = string.printable[top_i]\n",
    "        predicted += predicted_char\n",
    "        inp = char_to_tensor(predicted_char)\n",
    "\n",
    "    return predicted"
   ]
  },
  {
   "cell_type": "code",
   "execution_count": 28,
   "id": "52f3db8a-f4db-4bd9-a9d5-76253641fa4f",
   "metadata": {},
   "outputs": [
    {
     "name": "stdout",
     "output_type": "stream",
     "text": [
      "Time elapsed: 0.00 min\n",
      "Iteration 0 | Loss 4.64\n",
      "\n",
      "\n",
      "Th0Qt\\;(Ol%w[)vI8)C8$!BH5c#MgL>D\"Px?&#i^+xonBD|*.N(k0k4;)+Qhl;sJJ{Mig=5f ,\n",
      "EFcOH 3kp*j+-=Ri;d'4 \u000b",
      "\n",
      "M|t\f",
      "JQ&_*v%8x:y#1f_m5W\u000b",
      "\n",
      "r@I\\ARP'#5ph8~%Ix3$Y#nZRS06iY9]y Q0~_yl[L%RzP[\n",
      "TtCv\"&conY3Z+e'oI:\f",
      "|:Y~#H/Gi\f",
      "$[A  \n",
      "\n",
      "==================================================\n",
      "Time elapsed: 0.75 min\n",
      "Iteration 200 | Loss 2.31\n",
      "\n",
      "\n",
      "There, f doulc sound hy.\n",
      "\n",
      "HlN mar. bat hachers me coul of bar me cobstrokap suilmore you nove thiw bopd thave sore leabet lint be my meve wond heun tons bs t'le glicy agl tou beles, out ass,\n",
      "Iore touus  \n",
      "\n",
      "==================================================\n",
      "Time elapsed: 1.57 min\n",
      "Iteration 400 | Loss 2.70\n",
      "\n",
      "\n",
      "Thed I ow ast what the you will bee com spencouck sulgem;\n",
      "Where to hou highusty suarvent thoul heret the fregoscy wis bepronf, you this tome you hiin t; here not frume lay eet is whid the hear yorf,\n",
      "The \n",
      "\n",
      "==================================================\n",
      "Time elapsed: 2.35 min\n",
      "Iteration 600 | Loss 2.14\n",
      "\n",
      "\n",
      "Thith fresordning and sourith the det haven mur I hire.\n",
      "\n",
      "ILAPt'ENRBIZENO:\n",
      "So chather corges piow whis ie the herrow and now sange the daader,\n",
      "Thy soot I herall and reete the brecender cond nemey,\n",
      "\n",
      "MUMIN \n",
      "\n",
      "==================================================\n",
      "Time elapsed: 3.10 min\n",
      "Iteration 800 | Loss 2.06\n",
      "\n",
      "\n",
      "Th hown thou you?\n",
      "\n",
      "IECET GAETH:\n",
      "I his my corgintt sir not make me thou good with he good and pite,\n",
      "Por him of tord me foranesbine and save gor pryon gimes ebour as thull,\n",
      "Whemens her and my huch bild he \n",
      "\n",
      "==================================================\n",
      "Time elapsed: 3.82 min\n",
      "Iteration 1000 | Loss 2.05\n",
      "\n",
      "\n",
      "The a come you hard\n",
      "Here I dighth bet hou sence\n",
      "mere the drush trath ellom\n",
      "i the eace not he shall youkd,\n",
      "Axl beast my in a have rupegether depts?\n",
      "\n",
      "HORIO:\n",
      "G if by the shee a will con but oul, bit to kik \n",
      "\n",
      "==================================================\n",
      "Time elapsed: 4.57 min\n",
      "Iteration 1200 | Loss 1.80\n",
      "\n",
      "\n",
      "Thaw the king, I with eak feachy chouth have and make sod\n",
      "Foint so knat agoar imaksigamn the wourt and his more my the me know we to is my poring in a sheighing thee are sone alhter, thene not the know  \n",
      "\n",
      "==================================================\n",
      "Time elapsed: 5.30 min\n",
      "Iteration 1400 | Loss 1.74\n",
      "\n",
      "\n",
      "Thay thou livermand he withy hery him somen a'd, live for sound besice\n",
      "My the steening of peace,\n",
      "Wher eef wher the plecemphine, so thas some of canet the pray the fart he with nother, men myss, Sull,\n",
      "Wh \n",
      "\n",
      "==================================================\n",
      "Time elapsed: 6.08 min\n",
      "Iteration 1600 | Loss 1.79\n",
      "\n",
      "\n",
      "Thentlen home? dours say thoume your on a happer.\n",
      "\n",
      "PALIXES:\n",
      "Whour my will ane thel, sond as sarde, and thus the ell the hene, Bont beath the kich broyod fore to my keasons.\n",
      "Hay not your cam spear net as \n",
      "\n",
      "==================================================\n",
      "Time elapsed: 6.83 min\n",
      "Iteration 1800 | Loss 1.92\n",
      "\n",
      "\n",
      "Th:\n",
      "My him freath to how as her shall plowpereurnos so make that farde whorn the sup lethicted, Yeath applere's\n",
      "For the not to the tave me?\n",
      "\n",
      "CERIO:\n",
      "I strind and strard the sare is best the sort thy not  \n",
      "\n",
      "==================================================\n",
      "Time elapsed: 7.61 min\n",
      "Iteration 2000 | Loss 2.00\n",
      "\n",
      "\n",
      "Thing that have vis father\n",
      "pho know troming thou hose froid I have you to not it theints, and you my shomen the streskeforition!\n",
      "Loor aloul my like you soul seetiendit sheaugalls af time us;\n",
      "\n",
      "BUCKING ED \n",
      "\n",
      "==================================================\n",
      "Time elapsed: 8.34 min\n",
      "Iteration 2200 | Loss 2.11\n",
      "\n",
      "\n",
      "Th, scise paut thin her heart;\n",
      "You, not be vaartor fall countew done for in hinly hear trum suntty sence as,\n",
      "The belon Lor I wours more you hear may you enture ence,\n",
      "What Co have to shouse could sweing  \n",
      "\n",
      "==================================================\n",
      "Time elapsed: 9.07 min\n",
      "Iteration 2400 | Loss 1.73\n",
      "\n",
      "\n",
      "Thes: wher of the genty wick the Vkery ap.\n",
      "\n",
      "Second what with all in fir.\n",
      "Your my have worst faint for and not say then to the knen thin thou call out do friently.\n",
      "To king of cornny the sirs.\n",
      "\n",
      "CARCICHARD \n",
      "\n",
      "==================================================\n",
      "Time elapsed: 9.80 min\n",
      "Iteration 2600 | Loss 1.74\n",
      "\n",
      "\n",
      "Th:\n",
      "Which my Listres of the bound lord;\n",
      "'To, welcome nears he hell But,\n",
      "Whanger that for say thait?\n",
      "\n",
      "CLIORKER:\n",
      "Whild the bean, be have bothicl, my as everry'd you the lear o thy stath the chereforth of  \n",
      "\n",
      "==================================================\n",
      "Time elapsed: 10.57 min\n",
      "Iteration 2800 | Loss 2.35\n",
      "\n",
      "\n",
      "The lake wherchice, apord,\n",
      "And you this have mother dold himself, are will her surcoply my half fat's were a me wain here so the you Dullents make more margen, the door the beard\n",
      "In madisent carm by pro \n",
      "\n",
      "==================================================\n",
      "Time elapsed: 11.30 min\n",
      "Iteration 3000 | Loss 2.28\n",
      "\n",
      "\n",
      "Th are my beast--thal you show; spe do receous and thot you will God\n",
      "It wancon, your overy shat hanged\n",
      "Thand upor, shall mansold lord\n",
      "Thath'd,\n",
      "Come, for she all this than\n",
      "DePtue in the crown starden the \n",
      "\n",
      "==================================================\n",
      "Time elapsed: 12.06 min\n",
      "Iteration 3200 | Loss 1.79\n",
      "\n",
      "\n",
      "Thave the sack thrake the kind of this her him me rant, and do be yourseen be pasted\n",
      "For too sing us\n",
      "If have herculing:\n",
      "Come hust,\n",
      "And me could-sin,\n",
      "I was, for that paster litted tis do prit? Has say:\n",
      "W \n",
      "\n",
      "==================================================\n",
      "Time elapsed: 12.83 min\n",
      "Iteration 3400 | Loss 1.98\n",
      "\n",
      "\n",
      "Tho bringed by these us weake me duke, but by father.\n",
      "\n",
      "Second me though as my and by dones by had thest,\n",
      "Son stall whather if gide to a stays this ves brick and be your cedderey them you she cafed the f \n",
      "\n",
      "==================================================\n",
      "Time elapsed: 13.59 min\n",
      "Iteration 3600 | Loss 1.76\n",
      "\n",
      "\n",
      "Thited wis from pasy set me have here and ress as to mair we hath be dabth wight the help.\n",
      "\n",
      "POLIXENES:\n",
      "Tho dis may the leave grice it is wream thou, he all he, I'll the woal life, but be brieve be mares \n",
      "\n",
      "==================================================\n",
      "Time elapsed: 14.36 min\n",
      "Iteration 3800 | Loss 1.79\n",
      "\n",
      "\n",
      "Tht\n",
      "To fair the womernd for me, cuch thou aint\n",
      "God thriscaner'd the dids:\n",
      "\n",
      "JOHNON OF I'H:\n",
      "Good my\n",
      "Tharsted but sir, to say us.\n",
      "\n",
      "AUTOLANUS:\n",
      "But stas praereers; the mad youse hear that fran!\n",
      "Buche my the  \n",
      "\n",
      "==================================================\n",
      "Time elapsed: 15.14 min\n",
      "Iteration 4000 | Loss 1.69\n",
      "\n",
      "\n",
      "Th YORY:\n",
      "\n",
      "POMIONDE:\n",
      "You where parted thee the sutcal branger,\n",
      "You stal'd so ence, ghat on the in now Lord,\n",
      "And the father he to grace the dist the better;' of Capies then an your and the cay we all not  \n",
      "\n",
      "==================================================\n",
      "Time elapsed: 15.90 min\n",
      "Iteration 4200 | Loss 1.55\n",
      "\n",
      "\n",
      "Though, by the day minaces, his he word shall aft of what him the traitord? wherefore a wone is door her thoughter they the gream of the batery\n",
      "To dood them to that then her my seiance bering there that \n",
      "\n",
      "==================================================\n",
      "Time elapsed: 16.66 min\n",
      "Iteration 4400 | Loss 1.69\n",
      "\n",
      "\n",
      "Th'd graem,\n",
      "Yeath, I this firithed but entiviourage,\n",
      "Which thee\n",
      "And couster son will not that well being part in at and is thet the gruceit, time a joch,\n",
      "I awate.\n",
      "\n",
      "ISABET:\n",
      "We a might;\n",
      "And to is there ag \n",
      "\n",
      "==================================================\n",
      "Time elapsed: 538.95 min\n",
      "Iteration 4600 | Loss 1.75\n",
      "\n",
      "\n",
      "This commant and me inter shall her deathe vay at the come your partias but bor. Thy way\n",
      "What doep poundstard you kne nor fortunce of Rost a to me forn my restle!\n",
      "But me gold,\n",
      "To thour for a beoth them. \n",
      "\n",
      "==================================================\n",
      "Time elapsed: 539.48 min\n",
      "Iteration 4800 | Loss 1.60\n",
      "\n",
      "\n",
      "The that littly here crown ableens have and naing it boys frien ime\n",
      "And not so I fardey, sheyed an son, my love, cild myself Anger drys mose her is I with denished and true.\n",
      "If to thee will the they a c \n",
      "\n",
      "==================================================\n"
     ]
    },
    {
     "data": {
      "image/png": "[encoded data removed]",
      "text/plain": [
       "<Figure size 640x480 with 1 Axes>"
      ]
     },
     "metadata": {},
     "output_type": "display_data"
    }
   ],
   "source": [
    "start_time = time.time()\n",
    "\n",
    "loss_list = []\n",
    "\n",
    "for iteration in range(NUM_ITER):\n",
    "    optimizer.zero_grad()\n",
    "    loss = 0.\n",
    "    inputs, targets = draw_random_sample(shakespeare_text)\n",
    "    inputs, targets = inputs.to(DEVICE), targets.to(DEVICE)\n",
    "    for c in range(TEXT_PORTION_SIZE):\n",
    "        outputs = model(inputs[c].view(1))\n",
    "        loss += torch.nn.functional.cross_entropy(outputs, targets[c].view(1))\n",
    "    loss /= TEXT_PORTION_SIZE\n",
    "    loss.sum().backward()  # Não é necessário especificar retain_graph=True aqui\n",
    "    optimizer.step()  # Atualize os parâmetros do modelo\n",
    "\n",
    "    ### LOGGING\n",
    "    with torch.no_grad():\n",
    "        if iteration % 200 == 0:\n",
    "            print(f'Time elapsed: {(time.time() - start_time)/60:.2f} min')\n",
    "            print(f'Iteration {iteration} | Loss {loss.item():.2f}\\n\\n')\n",
    "            print(evaluate(model, 'Th', 200), '\\n')\n",
    "            print(50*'=')\n",
    "            \n",
    "            loss_list.append(loss.item())\n",
    "            plt.clf()\n",
    "            plt.plot(range(len(loss_list)), loss_list)\n",
    "            plt.ylabel('Loss')\n",
    "            plt.xlabel('Iteration x 1000')\n",
    "            plt.savefig('loss2.pdf')\n",
    "            \n",
    "plt.clf()\n",
    "plt.ylabel('Loss')\n",
    "plt.xlabel('Iteration x 1000')\n",
    "plt.plot(range(len(loss_list)), loss_list)\n",
    "plt.show()"
   ]
  },
  {
   "cell_type": "code",
   "execution_count": 23,
   "id": "3609d3ec-b8cd-4c8f-9761-4aff030337a9",
   "metadata": {},
   "outputs": [
    {
     "data": {
      "text/plain": [
       "(tensor([[-5.1895e-03, -7.2393e-02,  1.0114e-01,  1.0255e-01, -2.1394e-01,\n",
       "           8.4169e-02, -8.2930e-02,  1.8201e-02,  1.4446e-01, -5.2519e-02,\n",
       "          -4.9425e-02, -2.2372e-01, -1.1006e-02,  6.6838e-02, -1.5635e-01,\n",
       "           1.2250e-02, -1.1495e-01,  3.6930e-02,  3.8040e-02, -3.5794e-02,\n",
       "           5.1224e-02, -1.1435e-01,  1.5466e-01, -2.3526e-01, -6.7455e-03,\n",
       "          -2.5685e-01, -8.0613e-02,  9.2289e-03,  2.0200e-02,  7.6053e-02,\n",
       "           1.7062e-02,  9.9972e-02,  1.6587e-01, -6.5594e-02,  2.9018e-01,\n",
       "          -3.8882e-02,  1.3265e-02,  4.9085e-02, -2.7538e-01,  1.5793e-02,\n",
       "           1.0607e-01, -6.7385e-03, -3.9074e-02, -1.4761e-01,  6.9840e-03,\n",
       "          -1.5554e-01,  5.8854e-02,  6.8644e-02, -1.7338e-02, -2.3603e-02,\n",
       "           9.4180e-02, -8.4475e-06,  2.6234e-02, -3.4837e-02, -1.4302e-01,\n",
       "           6.6541e-02,  4.0340e-03,  5.2496e-02,  2.6013e-02,  2.0275e-01,\n",
       "           5.2792e-02, -7.3155e-02,  2.1666e-01, -2.9796e-01, -1.8217e-01,\n",
       "          -6.9850e-02, -7.2152e-02,  3.0700e-02, -1.8291e-01,  2.0764e-01,\n",
       "          -1.0869e-01,  1.2723e-01, -3.0677e-02,  1.3425e-01,  1.3594e-01,\n",
       "          -6.6896e-02,  1.0372e-01,  1.9214e-01,  1.4384e-02, -1.0582e-01,\n",
       "          -3.7576e-02, -1.4677e-02,  1.3516e-01, -4.4402e-02, -2.4764e-02,\n",
       "          -4.1311e-02,  1.1500e-01,  1.1818e-01, -2.6541e-01, -8.5703e-02,\n",
       "          -9.7255e-02, -3.0575e-01, -4.0354e-02, -3.2023e-02,  1.1442e-01,\n",
       "           3.8763e-02, -2.2658e-02, -7.9489e-02,  7.5884e-02,  1.1708e-04]],\n",
       "        device='cuda:0', grad_fn=<SqueezeBackward1>),\n",
       " tensor([[-1.0151e-02, -1.4129e-01,  1.8364e-01,  2.0280e-01, -3.7203e-01,\n",
       "           2.1423e-01, -1.6923e-01,  4.0596e-02,  2.5333e-01, -1.0317e-01,\n",
       "          -1.4931e-01, -3.6334e-01, -2.3298e-02,  1.3305e-01, -3.4165e-01,\n",
       "           3.0379e-02, -2.6342e-01,  1.1587e-01,  6.0325e-02, -7.7643e-02,\n",
       "           9.7874e-02, -2.0030e-01,  3.3255e-01, -5.2557e-01, -1.3368e-02,\n",
       "          -4.2185e-01, -2.0947e-01,  2.1181e-02,  5.1758e-02,  1.5935e-01,\n",
       "           4.1448e-02,  3.2338e-01,  3.0525e-01, -1.5776e-01,  4.4086e-01,\n",
       "          -5.9461e-02,  2.6512e-02,  1.3865e-01, -5.1042e-01,  3.3250e-02,\n",
       "           1.7510e-01, -1.3569e-02, -8.1925e-02, -3.0960e-01,  1.2821e-02,\n",
       "          -3.7769e-01,  1.1052e-01,  1.5513e-01, -3.7466e-02, -5.7751e-02,\n",
       "           1.9943e-01, -1.5779e-05,  5.0412e-02, -7.2758e-02, -2.3539e-01,\n",
       "           1.3832e-01,  8.1660e-03,  1.6565e-01,  6.0921e-02,  5.1321e-01,\n",
       "           9.2568e-02, -1.1728e-01,  5.2974e-01, -5.4672e-01, -2.9637e-01,\n",
       "          -1.4104e-01, -1.5847e-01,  7.8280e-02, -3.0997e-01,  3.7201e-01,\n",
       "          -2.0932e-01,  2.3525e-01, -4.5548e-02,  3.0295e-01,  3.1428e-01,\n",
       "          -1.9353e-01,  3.3494e-01,  4.0100e-01,  3.2009e-02, -2.9247e-01,\n",
       "          -7.2670e-02, -4.7994e-02,  2.8269e-01, -6.8516e-02, -3.9423e-02,\n",
       "          -1.1939e-01,  1.9859e-01,  1.9814e-01, -4.1496e-01, -1.8354e-01,\n",
       "          -2.3656e-01, -6.0942e-01, -8.4366e-02, -6.6014e-02,  1.9834e-01,\n",
       "           1.0452e-01, -3.8322e-02, -1.8151e-01,  1.2097e-01,  2.9961e-04]],\n",
       "        device='cuda:0', grad_fn=<SqueezeBackward1>))"
      ]
     },
     "execution_count": 23,
     "metadata": {},
     "output_type": "execute_result"
    }
   ],
   "source": [
    "model.hidden_cell_state"
   ]
  },
  {
   "cell_type": "code",
   "execution_count": null,
   "id": "5e73a12c-6c66-4fe9-a872-69801ecb88a6",
   "metadata": {},
   "outputs": [],
   "source": []
  }
 ],
 "metadata": {
  "kernelspec": {
   "display_name": "env_pytorch",
   "language": "python",
   "name": "env_pytorch"
  },
  "language_info": {
   "codemirror_mode": {
    "name": "ipython",
    "version": 3
   },
   "file_extension": ".py",
   "mimetype": "text/x-python",
   "name": "python",
   "nbconvert_exporter": "python",
   "pygments_lexer": "ipython3",
   "version": "3.9.0"
  }
 },
 "nbformat": 4,
 "nbformat_minor": 5
}
