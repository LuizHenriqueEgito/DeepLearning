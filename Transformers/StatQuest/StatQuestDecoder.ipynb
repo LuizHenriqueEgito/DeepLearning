{
 "cells": [
  {
   "cell_type": "code",
   "execution_count": 1,
   "id": "a9d7a256-ff15-452a-acde-512af57f600a",
   "metadata": {},
   "outputs": [],
   "source": [
    "import torch\n",
    "import torch.nn as nn\n",
    "import torch.nn.functional as F"
   ]
  },
  {
   "cell_type": "code",
   "execution_count": 2,
   "id": "d0dca61c-5f1f-4ef9-8732-2eeb71755f07",
   "metadata": {},
   "outputs": [],
   "source": [
    "from torch.optim import Adam\n",
    "from torch.utils.data import TensorDataset, DataLoader"
   ]
  },
  {
   "cell_type": "code",
   "execution_count": 36,
   "id": "bcef78d7-b935-4ac5-8888-ac7aeeacfa54",
   "metadata": {},
   "outputs": [],
   "source": [
    "device = torch.device('cuda' if torch.cuda.is_available() else 'cpu')"
   ]
  },
  {
   "cell_type": "code",
   "execution_count": 61,
   "id": "3c53a452-0f3b-4b8e-b8b4-5c0e5752f756",
   "metadata": {},
   "outputs": [],
   "source": [
    "EPOCHS = 5\n",
    "LR = 0.1"
   ]
  },
  {
   "cell_type": "code",
   "execution_count": 8,
   "id": "5c7b42e4-ee70-45cb-9ba9-dc357f3b9886",
   "metadata": {},
   "outputs": [],
   "source": [
    "token_to_id = {\n",
    "    'what': 0,\n",
    "    'is': 1,\n",
    "    'statquest': 2,\n",
    "    'awesome': 3,\n",
    "    '<EOS>': 4\n",
    "}\n",
    "\n",
    "id_to_token = dict(map(reversed, token_to_id.items()))"
   ]
  },
  {
   "cell_type": "code",
   "execution_count": 18,
   "id": "0cb6c1d2-a578-45ab-94c2-33cb4db04996",
   "metadata": {},
   "outputs": [],
   "source": [
    "inputs = torch.tensor([[\n",
    "    token_to_id['what'],\n",
    "    token_to_id['is'],\n",
    "    token_to_id['statquest'],\n",
    "    token_to_id['<EOS>'],\n",
    "    token_to_id['awesome']],\n",
    "\n",
    "    [token_to_id['statquest'],\n",
    "    token_to_id['is'],\n",
    "    token_to_id['what'],\n",
    "    token_to_id['<EOS>'],\n",
    "    token_to_id['awesome']]\n",
    "                      ])"
   ]
  },
  {
   "cell_type": "code",
   "execution_count": 19,
   "id": "365405e9-edf8-4f62-8c11-7ba4b5d76ce8",
   "metadata": {},
   "outputs": [],
   "source": [
    "labels = torch.tensor([[\n",
    "    token_to_id['is'],\n",
    "    token_to_id['statquest'],\n",
    "    token_to_id['<EOS>'],\n",
    "    token_to_id['awesome'],\n",
    "    token_to_id['<EOS>']],\n",
    "\n",
    "    [token_to_id['is'],\n",
    "    token_to_id['what'],\n",
    "    token_to_id['<EOS>'],\n",
    "    token_to_id['awesome'],\n",
    "    token_to_id['<EOS>']]\n",
    "])"
   ]
  },
  {
   "cell_type": "code",
   "execution_count": 25,
   "id": "6ad5eae4-e768-41e9-8aca-317bfee48bf1",
   "metadata": {},
   "outputs": [
    {
     "name": "stdout",
     "output_type": "stream",
     "text": [
      "INPUTS:\n",
      "tensor([[0, 1, 2, 4, 3],\n",
      "        [2, 1, 0, 4, 3]])\n",
      "TARGETS:\n",
      "tensor([[1, 2, 4, 3, 4],\n",
      "        [1, 0, 4, 3, 4]])\n"
     ]
    }
   ],
   "source": [
    "print(f'INPUTS:\\n{inputs}')\n",
    "print(f'TARGETS:\\n{labels}')"
   ]
  },
  {
   "cell_type": "code",
   "execution_count": 26,
   "id": "30f5bd46-5b28-4c29-8fa9-be1537e92e31",
   "metadata": {},
   "outputs": [],
   "source": [
    "dataset = TensorDataset(inputs, labels) \n",
    "dataloader = DataLoader(dataset)"
   ]
  },
  {
   "cell_type": "code",
   "execution_count": 27,
   "id": "ac33c3da-6cd4-40c6-9df7-0cbe20d63294",
   "metadata": {},
   "outputs": [],
   "source": [
    "class PositionEncoding(nn.Module):\n",
    "    \n",
    "    def __init__(self, d_model=2, max_len=6):\n",
    "        super().__init__()\n",
    "        pe = torch.zeros(max_len, d_model)   \n",
    "        position = torch.arange(start=0, end=max_len, step=1).float().unsqueeze(1)\n",
    "        embedding_index = torch.arange(start=0, end=d_model, step=2).float()\n",
    "        div_term = 1/torch.tensor(10000.0)**(embedding_index / d_model)\n",
    "        pe[:, 0::2] = torch.sin(position * div_term)\n",
    "        pe[:, 1::2] = torch.cos(position * div_term)\n",
    "        self.register_buffer('pe', pe)\n",
    "    def forward(self, word_embeddings):\n",
    "    \n",
    "        return word_embeddings + self.pe[:word_embeddings.size(0), :]"
   ]
  },
  {
   "cell_type": "code",
   "execution_count": 28,
   "id": "b900a932-42c1-4ceb-b308-cca1794d4b5d",
   "metadata": {},
   "outputs": [],
   "source": [
    "class Attention(nn.Module): \n",
    "    \n",
    "    def __init__(self, d_model=2):\n",
    "        super().__init__()\n",
    "        \n",
    "        self.d_model=d_model\n",
    "        self.W_q = nn.Linear(in_features=d_model, out_features=d_model, bias=False)\n",
    "        self.W_k = nn.Linear(in_features=d_model, out_features=d_model, bias=False)\n",
    "        self.W_v = nn.Linear(in_features=d_model, out_features=d_model, bias=False)\n",
    "\n",
    "        self.row_dim = 0\n",
    "        self.col_dim = 1\n",
    "\n",
    "        \n",
    "    def forward(self, encodings_for_q, encodings_for_k, encodings_for_v, mask=None):\n",
    "        q = self.W_q(encodings_for_q)\n",
    "        k = self.W_k(encodings_for_k)\n",
    "        v = self.W_v(encodings_for_v)\n",
    "        sims = torch.matmul(q, k.transpose(dim0=self.row_dim, dim1=self.col_dim))\n",
    "\n",
    "        scaled_sims = sims / torch.tensor(k.size(self.col_dim)**0.5)\n",
    "\n",
    "        if mask is not None:\n",
    "            scaled_sims = scaled_sims.masked_fill(mask=mask, value=-1e9)\n",
    "        attention_percents = F.softmax(scaled_sims, dim=self.col_dim)\n",
    "        attention_scores = torch.matmul(attention_percents, v)\n",
    "        \n",
    "        return attention_scores"
   ]
  },
  {
   "cell_type": "code",
   "execution_count": 44,
   "id": "f3bbe054-fb9a-4c15-89c0-4924ea907ce5",
   "metadata": {},
   "outputs": [],
   "source": [
    "class DecoderOnlyTransformer(nn.Module):\n",
    "    \n",
    "    def __init__(self, num_tokens=4, d_model=2, max_len=6):\n",
    "        \n",
    "        super().__init__()\n",
    "        self.we = nn.Embedding(num_embeddings=num_tokens, \n",
    "                               embedding_dim=d_model)     \n",
    "        self.pe = PositionEncoding(d_model=d_model, \n",
    "                                   max_len=max_len)\n",
    "        self.self_attention = Attention(d_model=d_model)\n",
    "        self.fc_layer = nn.Linear(in_features=d_model, out_features=num_tokens)\n",
    "\n",
    "        \n",
    "    def forward(self, token_ids):\n",
    "                \n",
    "        word_embeddings = self.we(token_ids)        \n",
    "        position_encoded = self.pe(word_embeddings)\n",
    "        mask = torch.tril(torch.ones((token_ids.size(dim=0), token_ids.size(dim=0)), device='cpu'))\n",
    "        mask = mask == 0\n",
    "        \n",
    "        self_attention_values = self.self_attention(position_encoded, \n",
    "                                                    position_encoded, \n",
    "                                                    position_encoded, \n",
    "                                                    mask=mask)\n",
    "                \n",
    "        residual_connection_values = position_encoded + self_attention_values\n",
    "        \n",
    "        fc_layer_output = self.fc_layer(residual_connection_values)\n",
    "        \n",
    "        return fc_layer_output"
   ]
  },
  {
   "cell_type": "code",
   "execution_count": 45,
   "id": "27792500-eec1-4e19-b6ba-acef4a8a35a5",
   "metadata": {},
   "outputs": [],
   "source": [
    "## First, create a model from DecoderOnlyTransformer()\n",
    "model = DecoderOnlyTransformer(num_tokens=len(token_to_id), d_model=2, max_len=6)\n",
    "\n",
    "## Now create the input for the transformer...\n",
    "model_input = torch.tensor([token_to_id[\"what\"], \n",
    "                            token_to_id[\"is\"], \n",
    "                            token_to_id[\"statquest\"], \n",
    "                            token_to_id[\"<EOS>\"]])\n",
    "input_length = model_input.size(dim=0)"
   ]
  },
  {
   "cell_type": "code",
   "execution_count": 64,
   "id": "114ce134-107e-459f-883c-f6c2c255fa75",
   "metadata": {},
   "outputs": [
    {
     "data": {
      "text/plain": [
       "tensor([0, 1, 2, 4, 3, 3])"
      ]
     },
     "execution_count": 64,
     "metadata": {},
     "output_type": "execute_result"
    }
   ],
   "source": [
    "model_input"
   ]
  },
  {
   "cell_type": "code",
   "execution_count": 46,
   "id": "6ad9ca08-346d-4d69-974c-2b07b4cc6fc3",
   "metadata": {},
   "outputs": [],
   "source": [
    "predictions = model(model_input) "
   ]
  },
  {
   "cell_type": "code",
   "execution_count": 47,
   "id": "b983af0f-14f5-4a79-834d-6e0bf6ca0b7e",
   "metadata": {},
   "outputs": [
    {
     "data": {
      "text/plain": [
       "tensor([[ 0.2978,  1.4903,  1.9730, -0.5394,  0.4174],\n",
       "        [ 0.7757,  1.6035,  1.9735,  0.0046,  0.5067],\n",
       "        [ 2.0159,  1.2240,  1.1363,  1.7033,  0.8499],\n",
       "        [ 2.2752,  0.2502, -0.1529,  2.4392,  1.0696]],\n",
       "       grad_fn=<AddmmBackward0>)"
      ]
     },
     "execution_count": 47,
     "metadata": {},
     "output_type": "execute_result"
    }
   ],
   "source": [
    "predictions"
   ]
  },
  {
   "cell_type": "code",
   "execution_count": 48,
   "id": "8382ba79-f38c-4589-9332-cc77076c2ea8",
   "metadata": {},
   "outputs": [],
   "source": [
    "predicted_id = torch.tensor([torch.argmax(predictions[-1,:])])"
   ]
  },
  {
   "cell_type": "code",
   "execution_count": 50,
   "id": "f2de3e15-265e-4c49-8cff-717b95b99324",
   "metadata": {},
   "outputs": [],
   "source": [
    "predicted_ids = predicted_id"
   ]
  },
  {
   "cell_type": "code",
   "execution_count": 52,
   "id": "df8b7e7f-f379-432e-82a5-383df9695404",
   "metadata": {},
   "outputs": [
    {
     "name": "stdout",
     "output_type": "stream",
     "text": [
      "Predicted Tokens:\n",
      "\t awesome\n",
      "\t awesome\n",
      "\t <EOS>\n"
     ]
    }
   ],
   "source": [
    "max_length = 6\n",
    "for i in range(input_length, max_length):\n",
    "    if (predicted_id == token_to_id[\"<EOS>\"]): # if the prediction is <EOS>, then we are done\n",
    "        break\n",
    "    \n",
    "    model_input = torch.cat((model_input, predicted_id))\n",
    "    \n",
    "    predictions = model(model_input) \n",
    "    predicted_id = torch.tensor([torch.argmax(predictions[-1,:])])\n",
    "    predicted_ids = torch.cat((predicted_ids, predicted_id))\n",
    "        \n",
    "## Now printout the predicted output phrase.\n",
    "print(\"Predicted Tokens:\") \n",
    "for id in predicted_ids: \n",
    "    print(\"\\t\", id_to_token[id.item()])"
   ]
  },
  {
   "cell_type": "code",
   "execution_count": 69,
   "id": "ca20e155-5ad0-4fc2-b789-5f7e79a7450a",
   "metadata": {},
   "outputs": [],
   "source": [
    "optimizer = torch.optim.AdamW(model.parameters(), lr=LR)\n",
    "criterion = nn.CrossEntropyLoss()"
   ]
  },
  {
   "cell_type": "code",
   "execution_count": 71,
   "id": "9054d23d-2bad-47c9-9109-0264f6bb5264",
   "metadata": {},
   "outputs": [],
   "source": [
    "optimizer.zero_grad(set_to_none=True)\n",
    "for epoch in range(EPOCHS):\n",
    "    for i, batch in enumerate(dataloader):\n",
    "        x, y = batch\n",
    "        y_hat = model(x[0])\n",
    "        loss = F.cross_entropy(y_hat, y[0])\n",
    "        loss.backward()\n",
    "        optimizer.step()\n",
    "        optimizer.zero_grad(set_to_none=True)"
   ]
  },
  {
   "cell_type": "code",
   "execution_count": 73,
   "id": "cd70a9d8-5143-4339-a2f1-830c644b06d7",
   "metadata": {},
   "outputs": [
    {
     "name": "stdout",
     "output_type": "stream",
     "text": [
      "Predicted Tokens:\n",
      "\t awesome\n",
      "\t <EOS>\n"
     ]
    }
   ],
   "source": [
    "model_input = torch.tensor([token_to_id[\"what\"], \n",
    "                            token_to_id[\"is\"], \n",
    "                            token_to_id[\"statquest\"], \n",
    "                            token_to_id[\"<EOS>\"]])\n",
    "input_length = model_input.size(dim=0)\n",
    "\n",
    "predictions = model(model_input) \n",
    "predicted_id = torch.tensor([torch.argmax(predictions[-1,:])])\n",
    "predicted_ids = predicted_id\n",
    "\n",
    "for i in range(input_length, max_length):\n",
    "    if (predicted_id == token_to_id[\"<EOS>\"]): # if the prediction is <EOS>, then we are done\n",
    "        break\n",
    "    \n",
    "    model_input = torch.cat((model_input, predicted_id))\n",
    "    \n",
    "    predictions = model(model_input) \n",
    "    predicted_id = torch.tensor([torch.argmax(predictions[-1,:])])\n",
    "    predicted_ids = torch.cat((predicted_ids, predicted_id))\n",
    "        \n",
    "print(\"Predicted Tokens:\") \n",
    "for id in predicted_ids: \n",
    "    print(\"\\t\", id_to_token[id.item()])"
   ]
  },
  {
   "cell_type": "code",
   "execution_count": 74,
   "id": "eb5b93eb-5529-46b8-9fbb-9b9e9cbd0845",
   "metadata": {},
   "outputs": [
    {
     "name": "stdout",
     "output_type": "stream",
     "text": [
      "Predicted Tokens:\n",
      "\t awesome\n",
      "\t <EOS>\n"
     ]
    }
   ],
   "source": [
    "## Now let's ask the other question...\n",
    "model_input = torch.tensor([token_to_id[\"statquest\"], \n",
    "                            token_to_id[\"is\"], \n",
    "                            token_to_id[\"what\"], \n",
    "                            token_to_id[\"<EOS>\"]])\n",
    "input_length = model_input.size(dim=0)\n",
    "\n",
    "predictions = model(model_input) \n",
    "predicted_id = torch.tensor([torch.argmax(predictions[-1,:])])\n",
    "predicted_ids = predicted_id\n",
    "\n",
    "for i in range(input_length, max_length):\n",
    "    if (predicted_id == token_to_id[\"<EOS>\"]): # if the prediction is <EOS>, then we are done\n",
    "        break\n",
    "    \n",
    "    model_input = torch.cat((model_input, predicted_id))\n",
    "    \n",
    "    predictions = model(model_input) \n",
    "    predicted_id = torch.tensor([torch.argmax(predictions[-1,:])])\n",
    "    predicted_ids = torch.cat((predicted_ids, predicted_id))\n",
    "        \n",
    "print(\"Predicted Tokens:\") \n",
    "for id in predicted_ids: \n",
    "    print(\"\\t\", id_to_token[id.item()])"
   ]
  }
 ],
 "metadata": {
  "kernelspec": {
   "display_name": "Pytorch",
   "language": "python",
   "name": "env_torch"
  },
  "language_info": {
   "codemirror_mode": {
    "name": "ipython",
    "version": 3
   },
   "file_extension": ".py",
   "mimetype": "text/x-python",
   "name": "python",
   "nbconvert_exporter": "python",
   "pygments_lexer": "ipython3",
   "version": "3.9.13"
  }
 },
 "nbformat": 4,
 "nbformat_minor": 5
}
