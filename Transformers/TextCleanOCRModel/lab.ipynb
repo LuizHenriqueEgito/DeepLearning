{
 "cells": [
  {
   "cell_type": "code",
   "execution_count": 21,
   "id": "85038fdb-d71a-4c49-9238-0f4532304e6f",
   "metadata": {},
   "outputs": [],
   "source": [
    "import torch"
   ]
  },
  {
   "cell_type": "code",
   "execution_count": 22,
   "id": "e37fb268-aaa0-4903-8944-a2c8faace1ac",
   "metadata": {},
   "outputs": [
    {
     "name": "stdout",
     "output_type": "stream",
     "text": [
      "The autoreload extension is already loaded. To reload it, use:\n",
      "  %reload_ext autoreload\n"
     ]
    }
   ],
   "source": [
    "%load_ext autoreload\n",
    "%autoreload 2"
   ]
  },
  {
   "cell_type": "markdown",
   "id": "d9e0f92c-3011-4e1b-8282-1e0e057c6464",
   "metadata": {},
   "source": [
    "# Get Data"
   ]
  },
  {
   "cell_type": "code",
   "execution_count": 23,
   "id": "9917f402-6abd-4ea9-933e-df8318a01810",
   "metadata": {},
   "outputs": [],
   "source": [
    "from src.get_data import get_data"
   ]
  },
  {
   "cell_type": "code",
   "execution_count": 24,
   "id": "32bc15a5-663a-4695-866e-f74c7045548e",
   "metadata": {},
   "outputs": [
    {
     "name": "stdout",
     "output_type": "stream",
     "text": [
      "########### INPUT ############\n",
      "Redes Neurais:\n",
      "16/06/2023\n",
      "16/06/2020\n",
      "16/06/2024\n",
      "16\n",
      "\n",
      "==============================\n",
      "########### TARGET ###########\n",
      "Redes Neurais:\n",
      "16/06/2023\n",
      "\n",
      "Uma rede neural é um mé\n",
      "\n"
     ]
    }
   ],
   "source": [
    "# Pegando os dados\n",
    "\n",
    "data = get_data()\n",
    "print(f'{\" INPUT \":#^30}')\n",
    "print(f\"{data['input'][:50]}\\n\")\n",
    "print('='*30)\n",
    "print(f'{\" TARGET \":#^30}')\n",
    "print(f\"{data['target'][:50]}\\n\")"
   ]
  },
  {
   "cell_type": "markdown",
   "id": "a381149e-e547-40a9-ab62-0b5909580b5e",
   "metadata": {},
   "source": [
    "# Tokenizer"
   ]
  },
  {
   "cell_type": "code",
   "execution_count": 28,
   "id": "95d8d305-9f51-4e0d-8b3b-7eed6f230ffe",
   "metadata": {},
   "outputs": [],
   "source": [
    "from transformers_utils.tokenizer import Tokenizer"
   ]
  },
  {
   "cell_type": "code",
   "execution_count": 29,
   "id": "de9ecc02-d90b-4927-9659-d0ae9e7b6540",
   "metadata": {},
   "outputs": [],
   "source": [
    "tokenizer = Tokenizer()"
   ]
  },
  {
   "cell_type": "code",
   "execution_count": 30,
   "id": "1dd9b65a-e040-4767-9f6a-81d8ee38cabc",
   "metadata": {},
   "outputs": [],
   "source": [
    "input_tokens_ids = tokenizer.encode_text_to_id(data['input'])\n",
    "target_tokens_ids = tokenizer.encode_text_to_id(data['target'])"
   ]
  },
  {
   "cell_type": "code",
   "execution_count": 31,
   "id": "c463ba0f-fecc-4bb6-be95-d833451c935a",
   "metadata": {},
   "outputs": [],
   "source": [
    "x = torch.LongTensor(input_tokens_ids).unsqueeze(0)"
   ]
  },
  {
   "cell_type": "code",
   "execution_count": 49,
   "id": "401b4844-84dd-48a4-a7f7-4b9a903e6a54",
   "metadata": {},
   "outputs": [],
   "source": [
    "y = torch.LongTensor(target_tokens_ids).unsqueeze(0)"
   ]
  },
  {
   "cell_type": "code",
   "execution_count": 50,
   "id": "942c4d4d-f9df-472d-b65e-5d7fdb2f0601",
   "metadata": {},
   "outputs": [
    {
     "data": {
      "text/plain": [
       "tensor([[ 53,  14,  13,  14,  28,  94,  49,  14,  30,  27,  10,  18,  28,  77,\n",
       "          96,   1,   6,  76,   0,   6,  76,   2,   0,   2,   3,  96,  96,  56,\n",
       "          22,  10,  94,  27,  14,  13,  14,  94,  23,  14,  30,  27,  10,  21,\n",
       "          94,  14,  94,  30,  22,  94,  22,  14,  29,  24,  13,  24,  94,  13,\n",
       "          14,  94,  18,  23,  29,  14,  21,  18,  16,  14,  23,  12,  18,  10,\n",
       "          94,  10,  27,  29,  18,  15,  18,  12,  18,  10,  21,  94,  26,  30,\n",
       "          14,  94,  14,  23,  28,  18,  23,  10,  96,  12,  24,  22,  25,  30,\n",
       "          29,  10,  13,  24,  27,  14,  28,  94,  10,  94,  25,  27,  24,  12,\n",
       "          14,  28,  28,  10,  27,  94,  13,  10,  13,  24,  28,  94,  13,  14,\n",
       "          94,  30,  22,  10,  94,  15,  24,  27,  22,  10,  94,  18,  23,  28,\n",
       "          25,  18,  27,  10,  13,  10,  94,  25,  14,  21,  24,  94,  12,  14,\n",
       "          27,  14,  11,  27,  24,  94,  17,  30,  22,  10,  23,  24,  75,  96,\n",
       "          40,  94,  30,  22,  94,  29,  18,  25,  24,  94,  13,  14,  94,  25,\n",
       "          27,  24,  12,  14,  28,  28,  24,  94,  13,  14,  94,  22,  10,  12,\n",
       "          17,  18,  23,  14,  94,  21,  14,  10,  27,  23,  18,  23,  16,  73,\n",
       "          94,  12,  17,  10,  22,  10,  13,  24,  94,  10,  25,  27,  14,  23,\n",
       "          13,  18,  35,  10,  13,  24,  94,  25,  27,  24,  15,  30,  23,  13,\n",
       "          24,  73,  96,  26,  30,  14,  94,  30,  28,  10,  94,  23,  24,  28,\n",
       "          94,  24,  30,  94,  23,  14,  30,  27,  24,  23,  18,  24,  28,  94,\n",
       "          18,  23,  29,  14,  27,  12,  24,  23,  14,  12,  29,  10,  13,  24,\n",
       "          28,  94,  14,  22,  94,  30,  22,  10,  94,  14,  28,  29,  27,  30,\n",
       "          29,  30,  27,  10,  94,  14,  22,  94,  12,  10,  22,  10,  13,  10,\n",
       "          28,  73,  94,  96,  28,  14,  22,  14,  21,  17,  10,  23,  29,  14,\n",
       "          94,  10,  24,  94,  12,  14,  27,  14,  11,  27,  24,  94,  17,  30,\n",
       "          22,  10,  23,  24,  75,  96,  96,  41,  18,  22,  75, 501, 500, 500,\n",
       "         500, 500, 500, 500, 500, 500, 500, 500, 500, 500, 500, 500, 500, 500,\n",
       "         500, 500, 500, 500, 500, 500, 500, 500, 500, 500, 500, 500, 500, 500,\n",
       "         500, 500, 500, 500, 500, 500, 500, 500, 500, 500, 500, 500, 500, 500,\n",
       "         500, 500, 500, 500, 500, 500, 500, 500, 500, 500, 500, 500, 500, 500,\n",
       "         500, 500, 500, 500, 500, 500, 500, 500, 500, 500, 500, 500, 500, 500,\n",
       "         500, 500, 500, 500, 500, 500, 500, 500, 500, 500, 500, 500, 500, 500,\n",
       "         500, 500, 500, 500, 500, 500, 500, 500, 500, 500, 500, 500, 500, 500,\n",
       "         500, 500, 500, 500, 500, 500, 500, 500, 500, 500, 500, 500, 500, 500,\n",
       "         500, 500, 500, 500, 500, 500, 500, 500, 500, 500, 500, 500, 500, 500,\n",
       "         500, 500, 500, 500, 500, 500, 500, 500, 500, 500, 500, 500, 500, 500,\n",
       "         500, 500, 500, 500, 500, 500, 500, 500, 500, 500, 500, 500, 500, 500,\n",
       "         500, 500, 500, 500, 500, 500, 500, 500, 500, 500, 500, 500, 500, 500,\n",
       "         500, 500, 500, 500, 500, 500, 500, 500, 500, 500, 500, 500, 500, 500,\n",
       "         500, 500, 500, 500, 500, 500, 500, 500, 500, 500, 500, 500, 500, 500,\n",
       "         500, 500, 500, 500, 500, 500, 500, 500, 500, 500, 500, 500, 500, 500,\n",
       "         500, 500, 500, 500, 500, 500, 500, 500, 500, 500, 500, 500, 500, 500,\n",
       "         500, 500, 500, 500, 500, 500, 500, 500, 500, 500, 500, 500, 500, 500,\n",
       "         500, 500, 500, 500, 500, 500, 500, 500, 500, 500, 500, 500]])"
      ]
     },
     "execution_count": 50,
     "metadata": {},
     "output_type": "execute_result"
    }
   ],
   "source": [
    "y"
   ]
  },
  {
   "cell_type": "code",
   "execution_count": 32,
   "id": "e690d335-28c2-4fa2-9038-a9f9ab20ac0c",
   "metadata": {},
   "outputs": [
    {
     "data": {
      "text/plain": [
       "tensor([[ 53,  14,  13,  14,  28,  94,  49,  14,  30,  27,  10,  18,  28,  77,\n",
       "          96,   1,   6,  76,   0,   6,  76,   2,   0,   2,   3,  96,   1,   6,\n",
       "          76,   0,   6,  76,   2,   0,   2,   0,  96,   1,   6,  76,   0,   6,\n",
       "          76,   2,   0,   2,   4,  96,   1,   6,  76,   0,   6,  76,   2,   0,\n",
       "           2,   5,  96,   1,   6,  76,   0,   6,  76,   2,   0,   2,   6,  96,\n",
       "          96,  96,  96,  56,  22,  10,  94,  27,  14,  13,  14,  94,  23,  14,\n",
       "          30,  27,  10,  21,  94,  14,  94,  30,  22,  94,  22,  14,  29,  24,\n",
       "          13,  24,  94,  13,  14,  94,  18,  23,  29,  14,  21,  18,  16,  14,\n",
       "          23,  12,  18,  10,  94,  10,  27,  29,  18,  15,  18,  12,  18,  10,\n",
       "          21,  94,  26,  30,  14,  94,  14,  23,  28,  18,  23,  10,  94,  96,\n",
       "          88,  74,  28,  13,  10,  33,  35,  96,   1,   2,  96,  59,  30,  35,\n",
       "          96,   3,  96,  96,  96,  96,  96,  12,  24,  22,  25,  30,  29,  10,\n",
       "          13,  24,  27,  14,  28,  94,  10,  94,  25,  27,  24,  12,  14,  28,\n",
       "          28,  10,  27,  94,  13,  10,  13,  24,  28,  94,  13,  14,  94,  30,\n",
       "          22,  10,  94,  15,  24,  27,  22,  10,  94,  18,  23,  28,  25,  18,\n",
       "          27,  10,  13,  10,  94,  25,  14,  21,  24,  94,  12,  14,  27,  14,\n",
       "          11,  27,  24,  94,  17,  30,  22,  10,  23,  24,  75,  96,  10,  96,\n",
       "          10,  96,  10,  28,  96,  15,  12,  96,  13,  28,  96,  10,  96,  96,\n",
       "          13,  15,  96,  13,  28,  96,  40,  94,  30,  22,  94,  29,  18,  25,\n",
       "          24,  94,  13,  14,  94,  25,  27,  24,  12,  14,  28,  28,  24,  94,\n",
       "          13,  14,  94,  22,  10,  12,  17,  18,  23,  14,  94,  21,  14,  10,\n",
       "          27,  23,  18,  23,  16,  73,  94,  12,  17,  10,  22,  10,  13,  24,\n",
       "          94,  10,  25,  27,  14,  23,  13,  18,  35,  10,  13,  24,  94,  25,\n",
       "          27,  24,  15,  30,  23,  13,  24,  73,  96,   3,   2,  96,  35,  33,\n",
       "          36,  54,  39,  35,  33,  36,  36,  74,  96,   2,   1,  96,  10,  13,\n",
       "          28,  20,  25,  15,  22,  96,  64,  50,  99,  80,  65,  96,  26,  30,\n",
       "          14,  94,  30,  28,  10,  94,  23,  24,  28,  94,  24,  30,  94,  23,\n",
       "          14,  30,  27,  24,  23,  18,  24,  28,  94,  18,  23,  29,  14,  27,\n",
       "          12,  24,  23,  14,  12,  29,  10,  13,  24,  28,  94,  14,  22,  94,\n",
       "          30,  22,  10,  94,  14,  28,  29,  27,  30,  29,  30,  27,  10,  94,\n",
       "          14,  22,  94,  12,  10,  22,  10,  13,  10,  28,  73,  94,  96,  28,\n",
       "          14,  22,  14,  21,  17,  10,  23,  29,  14,  94,  10,  24,  94,  12,\n",
       "          14,  27,  14,  11,  27,  24,  94,  17,  30,  22,  10,  23,  24,  75,\n",
       "          96,   1,  96,   2,   3,  96,   3,  96,   2,   4,  96,   4,   3,  96,\n",
       "           1,   6,  76,   0,   6,  76,   2,   0,   0,   7,  96,   1,   6,  76,\n",
       "           0,   6,  76,   2,   0,   0,   7,  96,  96,   1,   6,  76,   0,   6,\n",
       "          76,   2,   0,   0,   7,  96,   1,   6,  76,   0,   6,  76,   2,   0,\n",
       "           0,   7,  96,  67,  17,  22,  56,  48,  20,  51,  11,  43,  32,  68,\n",
       "          56,   7,  45,  27,  96,  41,  18,  22,  75, 501, 500, 500, 500, 500,\n",
       "         500, 500, 500, 500, 500, 500, 500, 500, 500, 500, 500, 500, 500, 500,\n",
       "         500, 500, 500, 500, 500, 500, 500, 500, 500, 500, 500, 500, 500, 500,\n",
       "         500, 500, 500, 500, 500, 500, 500, 500, 500, 500, 500, 500, 500, 500,\n",
       "         500, 500, 500, 500, 500, 500, 500, 500, 500, 500, 500, 500]])"
      ]
     },
     "execution_count": 32,
     "metadata": {},
     "output_type": "execute_result"
    }
   ],
   "source": [
    "x"
   ]
  },
  {
   "cell_type": "code",
   "execution_count": 33,
   "id": "e010904d-8b1a-43d1-b4ca-f930c23f9f56",
   "metadata": {},
   "outputs": [
    {
     "data": {
      "text/plain": [
       "torch.Size([1, 600])"
      ]
     },
     "execution_count": 33,
     "metadata": {},
     "output_type": "execute_result"
    }
   ],
   "source": [
    "x.shape"
   ]
  },
  {
   "cell_type": "markdown",
   "id": "4d0576c8-8689-48e5-9d66-99441cb6744e",
   "metadata": {},
   "source": [
    "# Duvida\n",
    "- Descobrir como treinar o modelo por exemplo eu tenho os tokens [1,2, 1001,1005,1008, 3, 4] como input e os tokens [1,2,3,4] como target, como fazer esse treinamento, os tokens 1001, 1005 e 1008 são sujeiras que quero remover?\n",
    "- Talvez modelos de resumo sejam assim"
   ]
  },
  {
   "cell_type": "markdown",
   "id": "37db835d-765d-4eb2-a23d-8fa321e2d300",
   "metadata": {},
   "source": [
    "# Embedding"
   ]
  },
  {
   "cell_type": "code",
   "execution_count": 34,
   "id": "972e00bf-e04c-4dc0-ac86-922dbf40065f",
   "metadata": {},
   "outputs": [],
   "source": [
    "from transformers_utils.embeddings import EmbeddingLayer"
   ]
  },
  {
   "cell_type": "code",
   "execution_count": 35,
   "id": "5d778357-deda-4264-89db-035d63e03761",
   "metadata": {},
   "outputs": [],
   "source": [
    "emb_layer = EmbeddingLayer()"
   ]
  },
  {
   "cell_type": "code",
   "execution_count": 36,
   "id": "9d16958e-5e2d-43e2-866e-86ab1ef895a7",
   "metadata": {},
   "outputs": [],
   "source": [
    "x_emb = emb_layer(x)"
   ]
  },
  {
   "cell_type": "code",
   "execution_count": 38,
   "id": "3816efed-071f-4f22-aa3e-dc4c04137c6f",
   "metadata": {},
   "outputs": [
    {
     "data": {
      "text/plain": [
       "torch.Size([1, 600, 32])"
      ]
     },
     "execution_count": 38,
     "metadata": {},
     "output_type": "execute_result"
    }
   ],
   "source": [
    "x_emb.shape"
   ]
  },
  {
   "cell_type": "code",
   "execution_count": 37,
   "id": "c9eedbf2-7269-45ac-91df-60e04460aa9f",
   "metadata": {},
   "outputs": [
    {
     "data": {
      "text/plain": [
       "tensor([[[-1.4454,  2.5239,  0.5941,  ...,  0.0378, -1.5960,  0.8048],\n",
       "         [-0.0175,  1.5512,  0.2503,  ..., -0.5183, -0.2701, -0.0126],\n",
       "         [-0.1206,  0.1447, -0.3958,  ..., -2.8298,  0.8196,  0.8251],\n",
       "         ...,\n",
       "         [ 0.7595,  0.1607,  0.4021,  ..., -0.0989, -0.0031, -1.5912],\n",
       "         [ 0.7595,  0.1607,  0.4021,  ..., -0.0989, -0.0031, -1.5912],\n",
       "         [ 0.7595,  0.1607,  0.4021,  ..., -0.0989, -0.0031, -1.5912]]],\n",
       "       grad_fn=<EmbeddingBackward0>)"
      ]
     },
     "execution_count": 37,
     "metadata": {},
     "output_type": "execute_result"
    }
   ],
   "source": [
    "x_emb"
   ]
  },
  {
   "cell_type": "markdown",
   "id": "1adcbfd7-a325-4151-a031-e78aa4e0e43c",
   "metadata": {},
   "source": [
    "# Pos Embedding"
   ]
  },
  {
   "cell_type": "code",
   "execution_count": 39,
   "id": "ccb0ee41-9d53-4187-b720-93c9abe7172c",
   "metadata": {},
   "outputs": [],
   "source": [
    "# por que usamos Dropout em pos embedding para ele não ficar muito viessado com esse acréscimo de posição?\n",
    "from transformers_utils.pos_encoding import PositionalEncoding"
   ]
  },
  {
   "cell_type": "code",
   "execution_count": 40,
   "id": "9912653a-5f93-48b7-a1f2-0e6e890a7254",
   "metadata": {},
   "outputs": [],
   "source": [
    "pos_emb = PositionalEncoding()"
   ]
  },
  {
   "cell_type": "code",
   "execution_count": 41,
   "id": "93d152c6-bcad-4868-8522-d999a9da69a6",
   "metadata": {},
   "outputs": [],
   "source": [
    "x_pos = pos_emb(x_emb)"
   ]
  },
  {
   "cell_type": "code",
   "execution_count": 43,
   "id": "70811ac2-fa4b-49d0-a766-98bdd5c1e5f8",
   "metadata": {},
   "outputs": [
    {
     "data": {
      "text/plain": [
       "torch.Size([1, 600, 32])"
      ]
     },
     "execution_count": 43,
     "metadata": {},
     "output_type": "execute_result"
    }
   ],
   "source": [
    "x_pos.shape"
   ]
  },
  {
   "cell_type": "code",
   "execution_count": 42,
   "id": "08161e68-22b2-4d60-a2c1-2414350a815d",
   "metadata": {},
   "outputs": [
    {
     "data": {
      "text/plain": [
       "tensor([[[-1.4454,  3.5239,  0.5941,  ...,  1.0378, -1.5960,  1.8048],\n",
       "         [ 0.8240,  2.0915,  0.7835,  ...,  0.4817, -0.2699,  0.9874],\n",
       "         [ 0.7887, -0.2715,  0.5063,  ..., -1.8298,  0.8200,  1.8251],\n",
       "         ...,\n",
       "         [ 0.8567,  1.1559,  0.8214,  ...,  0.8834,  0.1028, -0.5968],\n",
       "         [ 1.6495,  0.6166,  0.2727,  ...,  0.8833,  0.1030, -0.5968],\n",
       "         [ 1.6240, -0.3419, -0.2360,  ...,  0.8832,  0.1032, -0.5968]]],\n",
       "       grad_fn=<AddBackward0>)"
      ]
     },
     "execution_count": 42,
     "metadata": {},
     "output_type": "execute_result"
    }
   ],
   "source": [
    "x_pos"
   ]
  },
  {
   "cell_type": "markdown",
   "id": "4ac210c7-4e10-4002-bd79-0a97ec525d8a",
   "metadata": {},
   "source": [
    "# MultiHeadAttention\n",
    "- sem mask pois queremos olhar para trás e para frente"
   ]
  },
  {
   "cell_type": "code",
   "execution_count": 44,
   "id": "bfb0b24e-57e8-49cf-a507-00480c5a66b2",
   "metadata": {},
   "outputs": [],
   "source": [
    "from transformers_utils.attention import MultiHeadAttention"
   ]
  },
  {
   "cell_type": "code",
   "execution_count": 45,
   "id": "eb919116-39ac-4f1e-a41c-6c7d8b5f8103",
   "metadata": {},
   "outputs": [],
   "source": [
    "mult_head_att_layer = MultiHeadAttention()"
   ]
  },
  {
   "cell_type": "code",
   "execution_count": 46,
   "id": "4f59a173-2067-4ded-b1c9-bb81feeb685e",
   "metadata": {},
   "outputs": [],
   "source": [
    "x_att = mult_head_att_layer(x_pos)"
   ]
  },
  {
   "cell_type": "code",
   "execution_count": 48,
   "id": "cb90799a-9a51-47cf-9c9f-4d4fc0fea3f2",
   "metadata": {},
   "outputs": [
    {
     "data": {
      "text/plain": [
       "torch.Size([1, 600, 32])"
      ]
     },
     "execution_count": 48,
     "metadata": {},
     "output_type": "execute_result"
    }
   ],
   "source": [
    "x_att.shape"
   ]
  },
  {
   "cell_type": "code",
   "execution_count": 47,
   "id": "40b82614-015a-4295-9c0c-a816d036d118",
   "metadata": {},
   "outputs": [
    {
     "data": {
      "text/plain": [
       "tensor([[[ 0.0149,  0.1363, -0.0314,  ...,  0.0142,  0.1397,  0.1267],\n",
       "         [-0.0010,  0.1357,  0.0071,  ...,  0.0488,  0.1138,  0.1539],\n",
       "         [ 0.0114,  0.1402, -0.0184,  ...,  0.0205,  0.1171,  0.1460],\n",
       "         ...,\n",
       "         [ 0.0224,  0.1426, -0.0183,  ...,  0.0185,  0.1163,  0.1196],\n",
       "         [ 0.0232,  0.1405, -0.0149,  ...,  0.0173,  0.1146,  0.1153],\n",
       "         [ 0.0217,  0.1402, -0.0112,  ...,  0.0174,  0.1122,  0.1143]]],\n",
       "       grad_fn=<TransposeBackward0>)"
      ]
     },
     "execution_count": 47,
     "metadata": {},
     "output_type": "execute_result"
    }
   ],
   "source": [
    "x_att"
   ]
  },
  {
   "cell_type": "markdown",
   "id": "3aee3fbb-51a0-4028-9f2f-7828d682a78f",
   "metadata": {},
   "source": [
    "# Testes aleatorios"
   ]
  },
  {
   "cell_type": "code",
   "execution_count": null,
   "id": "1f923b2e-6afe-4dd9-b3d4-ace2864eaa36",
   "metadata": {},
   "outputs": [],
   "source": []
  }
 ],
 "metadata": {
  "kernelspec": {
   "display_name": "env_pytorch",
   "language": "python",
   "name": "env_pytorch"
  },
  "language_info": {
   "codemirror_mode": {
    "name": "ipython",
    "version": 3
   },
   "file_extension": ".py",
   "mimetype": "text/x-python",
   "name": "python",
   "nbconvert_exporter": "python",
   "pygments_lexer": "ipython3",
   "version": "3.9.0"
  }
 },
 "nbformat": 4,
 "nbformat_minor": 5
}
