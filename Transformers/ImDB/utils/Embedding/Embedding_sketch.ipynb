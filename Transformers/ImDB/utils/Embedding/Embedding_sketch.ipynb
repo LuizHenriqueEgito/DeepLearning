{
 "cells": [
  {
   "cell_type": "code",
   "execution_count": 2,
   "id": "82f60b1e-f374-4982-86f2-afcb183ac8cd",
   "metadata": {},
   "outputs": [],
   "source": [
    "import torch\n",
    "import torch.nn as nn\n",
    "from torch import Tensor"
   ]
  },
  {
   "cell_type": "code",
   "execution_count": 3,
   "id": "ccbeb9bf-d962-498b-ac07-01c271eb7cab",
   "metadata": {},
   "outputs": [],
   "source": [
    "class EmbeddingModel(nn.Module):\n",
    "    def __init__(self, d_model, vocab_size):\n",
    "        super().__init__()\n",
    "        self.embedding = nn.Embedding(\n",
    "            num_embeddings=vocab_size,  # vocab_size\n",
    "            embedding_dim=d_model,\n",
    "            padding_idx=0\n",
    "        )\n",
    "\n",
    "    def forward(self, x: Tensor) -> Tensor:\n",
    "        print(f'x que chegou no embedding: {x}')\n",
    "        x = self.embedding(x)\n",
    "        return x"
   ]
  },
  {
   "cell_type": "code",
   "execution_count": 4,
   "id": "e81da7b1-807a-4302-bc3e-2d5d88882e3a",
   "metadata": {},
   "outputs": [],
   "source": [
    "x_tokens = torch.tensor([[49, 36, 19],[40, 65, 22]]) "
   ]
  },
  {
   "cell_type": "code",
   "execution_count": 5,
   "id": "c61a62ef-ee10-4079-a800-1bd82809b4f5",
   "metadata": {},
   "outputs": [],
   "source": [
    "embedding = EmbeddingModel(d_model=4, vocab_size=100)"
   ]
  },
  {
   "cell_type": "code",
   "execution_count": 6,
   "id": "54b0abe7-4bc7-4c1f-b07b-1eee26ad58f1",
   "metadata": {},
   "outputs": [
    {
     "name": "stdout",
     "output_type": "stream",
     "text": [
      "x que chegou no embedding: tensor([[49, 36, 19],\n",
      "        [40, 65, 22]])\n"
     ]
    },
    {
     "data": {
      "text/plain": [
       "tensor([[[ 0.1360, -0.9184, -0.8154, -1.4133],\n",
       "         [ 0.8733, -0.1357,  0.4734, -1.8441],\n",
       "         [-0.2817,  0.3266, -0.4538, -0.9109]],\n",
       "\n",
       "        [[-1.0361, -0.1887,  1.3994, -1.1019],\n",
       "         [-1.4769,  0.6432,  1.0992, -0.5597],\n",
       "         [ 1.7619,  0.1832, -1.4736, -0.9718]]], grad_fn=<EmbeddingBackward0>)"
      ]
     },
     "execution_count": 6,
     "metadata": {},
     "output_type": "execute_result"
    }
   ],
   "source": [
    "embedding(x_tokens)"
   ]
  },
  {
   "cell_type": "code",
   "execution_count": null,
   "id": "1eb4bb3f-71fb-48aa-a22c-46a8f9058ddf",
   "metadata": {},
   "outputs": [],
   "source": []
  }
 ],
 "metadata": {
  "kernelspec": {
   "display_name": "Python 3",
   "language": "python",
   "name": "python3"
  },
  "language_info": {
   "codemirror_mode": {
    "name": "ipython",
    "version": 3
   },
   "file_extension": ".py",
   "mimetype": "text/x-python",
   "name": "python",
   "nbconvert_exporter": "python",
   "pygments_lexer": "ipython3",
   "version": "3.10.10"
  }
 },
 "nbformat": 4,
 "nbformat_minor": 5
}
