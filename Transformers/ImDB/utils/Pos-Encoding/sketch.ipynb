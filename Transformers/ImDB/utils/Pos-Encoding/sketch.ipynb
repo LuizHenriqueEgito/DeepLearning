{
 "cells": [
  {
   "cell_type": "code",
   "execution_count": 1,
   "id": "60b7df73-c1c0-4064-acda-7512fbfc02be",
   "metadata": {},
   "outputs": [],
   "source": [
    "import torch\n",
    "import torch.nn as nn\n",
    "from torch import Tensor"
   ]
  },
  {
   "cell_type": "code",
   "execution_count": 21,
   "id": "8babb642-12fd-413c-8343-4e59a59a3bf4",
   "metadata": {},
   "outputs": [],
   "source": [
    "L = 16\n",
    "D_MODEL = 4"
   ]
  },
  {
   "cell_type": "code",
   "execution_count": 45,
   "id": "4b4938da-46ac-419d-b2a1-7b29f203a004",
   "metadata": {},
   "outputs": [],
   "source": [
    "class PositionalEncoding(nn.Module):\n",
    "    def __init__(\n",
    "        self, \n",
    "        d_model: int = D_MODEL, \n",
    "        dropout: float = 0.0, \n",
    "        seq_len: int = L\n",
    "    ):\n",
    "        super().__init__()\n",
    "        self.dropout = nn.Dropout(p=dropout)\n",
    "        pe = torch.zeros(seq_len, d_model)\n",
    "        k = torch.arange(0, seq_len).unsqueeze(1)\n",
    "        div_term = torch.exp(torch.arange(0, d_model, 2) * -(torch.log(torch.tensor(10_000.0)) / d_model))\n",
    "        pe[:, 0::2] = torch.sin(k * div_term)\n",
    "        pe[:, 1::2] = torch.cos(k * div_term)\n",
    "        pe = pe.unsqueeze(0)\n",
    "\n",
    "        self.register_buffer('pe', pe)\n",
    "\n",
    "    def forward(self, x: Tensor) -> Tensor:\n",
    "        x += self.pe[:, :x.size(1)].requires_grad_(False)\n",
    "        x = self.dropout(x)\n",
    "        return x"
   ]
  },
  {
   "cell_type": "code",
   "execution_count": 46,
   "id": "ca6c869a-973d-4e72-bb9a-1cacc78b5794",
   "metadata": {},
   "outputs": [],
   "source": [
    "x_emb = torch.rand(1, L, D_MODEL)"
   ]
  },
  {
   "cell_type": "code",
   "execution_count": 47,
   "id": "16f1d40a-3f13-402e-95a5-6ac12c96b312",
   "metadata": {},
   "outputs": [],
   "source": [
    "pe = PositionalEncoding(d_model=D_MODEL)"
   ]
  },
  {
   "cell_type": "code",
   "execution_count": 48,
   "id": "f12420a0-9f11-4eb6-9cf0-426bef58ec1b",
   "metadata": {},
   "outputs": [
    {
     "data": {
      "text/plain": [
       "tensor([[[ 0.0000,  1.0000,  0.0000,  1.0000],\n",
       "         [ 0.8415,  0.5403,  0.0100,  0.9999],\n",
       "         [ 0.9093, -0.4161,  0.0200,  0.9998],\n",
       "         [ 0.1411, -0.9900,  0.0300,  0.9996],\n",
       "         [-0.7568, -0.6536,  0.0400,  0.9992],\n",
       "         [-0.9589,  0.2837,  0.0500,  0.9988],\n",
       "         [-0.2794,  0.9602,  0.0600,  0.9982],\n",
       "         [ 0.6570,  0.7539,  0.0699,  0.9976],\n",
       "         [ 0.9894, -0.1455,  0.0799,  0.9968],\n",
       "         [ 0.4121, -0.9111,  0.0899,  0.9960],\n",
       "         [-0.5440, -0.8391,  0.0998,  0.9950],\n",
       "         [-1.0000,  0.0044,  0.1098,  0.9940],\n",
       "         [-0.5366,  0.8439,  0.1197,  0.9928],\n",
       "         [ 0.4202,  0.9074,  0.1296,  0.9916],\n",
       "         [ 0.9906,  0.1367,  0.1395,  0.9902],\n",
       "         [ 0.6503, -0.7597,  0.1494,  0.9888]]])"
      ]
     },
     "execution_count": 48,
     "metadata": {},
     "output_type": "execute_result"
    }
   ],
   "source": [
    "pe.state_dict()['pe']"
   ]
  },
  {
   "cell_type": "code",
   "execution_count": 49,
   "id": "cf00c2b6-e7ee-4211-b399-db2401b12f0d",
   "metadata": {},
   "outputs": [
    {
     "data": {
      "text/plain": [
       "tensor([[[0.9803, 0.4167, 0.4230, 0.1088],\n",
       "         [0.0773, 0.7389, 0.1826, 0.0478],\n",
       "         [0.8858, 0.5079, 0.8251, 0.7519],\n",
       "         [0.4062, 0.2063, 0.2592, 0.7307],\n",
       "         [0.8035, 0.8051, 0.8606, 0.9832],\n",
       "         [0.9974, 0.6177, 0.2149, 0.9632],\n",
       "         [0.0533, 0.0712, 0.4286, 0.1503],\n",
       "         [0.5433, 0.6627, 0.4333, 0.2395],\n",
       "         [0.9823, 0.5219, 0.5031, 0.5695],\n",
       "         [0.1357, 0.6164, 0.1595, 0.7419],\n",
       "         [0.4672, 0.7585, 0.5333, 0.4226],\n",
       "         [0.2241, 0.6310, 0.9298, 0.2666],\n",
       "         [0.4494, 0.7842, 0.7811, 0.7269],\n",
       "         [0.0999, 0.3252, 0.2837, 0.4922],\n",
       "         [0.1572, 0.4564, 0.9636, 0.5060],\n",
       "         [0.7520, 0.0984, 0.7017, 0.6566]]])"
      ]
     },
     "execution_count": 49,
     "metadata": {},
     "output_type": "execute_result"
    }
   ],
   "source": [
    "x_emb"
   ]
  },
  {
   "cell_type": "code",
   "execution_count": 50,
   "id": "4a2cb0d9-ecb1-4191-806a-d24dd9826864",
   "metadata": {},
   "outputs": [
    {
     "data": {
      "text/plain": [
       "tensor([[[ 0.9803,  1.4167,  0.4230,  1.1088],\n",
       "         [ 0.9187,  1.2792,  0.1926,  1.0477],\n",
       "         [ 1.7951,  0.0918,  0.8451,  1.7517],\n",
       "         [ 0.5473, -0.7837,  0.2891,  1.7302],\n",
       "         [ 0.0467,  0.1514,  0.9005,  1.9824],\n",
       "         [ 0.0385,  0.9013,  0.2649,  1.9620],\n",
       "         [-0.2261,  1.0314,  0.4885,  1.1485],\n",
       "         [ 1.2002,  1.4166,  0.5033,  1.2370],\n",
       "         [ 1.9717,  0.3764,  0.5831,  1.5663],\n",
       "         [ 0.5479, -0.2947,  0.2494,  1.7379],\n",
       "         [-0.0768, -0.0805,  0.6332,  1.4176],\n",
       "         [-0.7759,  0.6355,  1.0395,  1.2605],\n",
       "         [-0.0872,  1.6281,  0.9008,  1.7197],\n",
       "         [ 0.5200,  1.2327,  0.4134,  1.4838],\n",
       "         [ 1.1478,  0.5931,  1.1032,  1.4962],\n",
       "         [ 1.4023, -0.6613,  0.8511,  1.6454]]])"
      ]
     },
     "execution_count": 50,
     "metadata": {},
     "output_type": "execute_result"
    }
   ],
   "source": [
    "pe(x_emb)"
   ]
  }
 ],
 "metadata": {
  "kernelspec": {
   "display_name": "Python 3",
   "language": "python",
   "name": "python3"
  },
  "language_info": {
   "codemirror_mode": {
    "name": "ipython",
    "version": 3
   },
   "file_extension": ".py",
   "mimetype": "text/x-python",
   "name": "python",
   "nbconvert_exporter": "python",
   "pygments_lexer": "ipython3",
   "version": "3.10.10"
  }
 },
 "nbformat": 4,
 "nbformat_minor": 5
}
