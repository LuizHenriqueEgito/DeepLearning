{
 "cells": [
  {
   "cell_type": "code",
   "execution_count": 1,
   "id": "e30ae4b0-880d-4c1b-a3aa-528c35f1845f",
   "metadata": {},
   "outputs": [],
   "source": [
    "import torch\n",
    "import torch.nn as nn"
   ]
  },
  {
   "cell_type": "code",
   "execution_count": 2,
   "id": "f30a5af9-11cd-4ad7-9deb-75209b39c170",
   "metadata": {},
   "outputs": [],
   "source": [
    "from multi_head_attention import MultiHeadAttention\n",
    "from feed_forward import FeedForward\n",
    "from sinusoidal_positional_encoding import PositionalEncoding\n",
    "from embedding import EmbeddingModel"
   ]
  },
  {
   "cell_type": "code",
   "execution_count": 3,
   "id": "8f1444d4-7706-4c16-9d84-44f83d3b2dbf",
   "metadata": {},
   "outputs": [],
   "source": [
    "class EncoderBlock(nn.Module):\n",
    "    def __init__(\n",
    "        self, \n",
    "        d_model: int, \n",
    "        n_heads: int,\n",
    "        hidden_size: int,\n",
    "        dropout: float = 0.1\n",
    "    ):\n",
    "        super().__init__()\n",
    "        self.mha = MultiHeadAttention(d_model, n_heads)\n",
    "        self.feed_forward = FeedForward(d_model, hidden_size, dropout)\n",
    "\n",
    "        self.norm_mha = nn.LayerNorm(normalized_shape=d_model)\n",
    "        self.norm_feed_forward = nn.LayerNorm(normalized_shape=d_model)\n",
    "\n",
    "    def forward(self, x):\n",
    "        x = self.norm_mha(x + self.mha(x, x, x))  # add & norm\n",
    "        x = self.norm_feed_forward(x + self.feed_forward(x))  # add & norm\n",
    "        return x"
   ]
  },
  {
   "cell_type": "code",
   "execution_count": 4,
   "id": "a141e030-a855-45ff-91d8-382ef02b36f2",
   "metadata": {},
   "outputs": [],
   "source": [
    "class TransformerEncoder(nn.Module):\n",
    "    def __init__(\n",
    "        self,\n",
    "        vocab_size: int,\n",
    "        seq_len: int,\n",
    "        d_model: int,\n",
    "        nx: int,\n",
    "        n_heads: int,\n",
    "        hidden_size: int,\n",
    "        dropout: float = 0.1\n",
    "    ):\n",
    "        super().__init__()\n",
    "        self.embedding = nn.Sequential(\n",
    "            EmbeddingModel(d_model, vocab_size),\n",
    "            PositionalEncoding(d_model, seq_len)\n",
    "        )\n",
    "        self.encoder_blocks = nn.ModuleList(\n",
    "            [\n",
    "                EncoderBlock(\n",
    "                    d_model,\n",
    "                    n_heads,\n",
    "                    hidden_size,\n",
    "                    dropout=dropout,\n",
    "                )\n",
    "                for _ in range(nx)\n",
    "            ]\n",
    "        )\n",
    "\n",
    "    def forward(self, x):\n",
    "        x = self.embedding(x)\n",
    "        for block in self.encoder_blocks:\n",
    "            x = block(x)\n",
    "        return x"
   ]
  },
  {
   "cell_type": "code",
   "execution_count": 19,
   "id": "379ea6e0-6a5e-4897-836e-158607ccdf13",
   "metadata": {},
   "outputs": [],
   "source": [
    "x = torch.rand((2, 3)) * 100\n",
    "x = x.int()"
   ]
  },
  {
   "cell_type": "code",
   "execution_count": 20,
   "id": "762ce0f7-bebc-43fb-bf7a-1d7d2d2ca7af",
   "metadata": {},
   "outputs": [
    {
     "name": "stdout",
     "output_type": "stream",
     "text": [
      "entrada teste\n",
      "tensor([[77,  8, 55],\n",
      "        [ 4, 44, 61]], dtype=torch.int32)\n",
      "Shape entrada: torch.Size([2, 3])\n",
      "------------------------------\n"
     ]
    }
   ],
   "source": [
    "print(f\"entrada teste\")\n",
    "print(x)\n",
    "print(f\"Shape entrada: {teste.shape}\")\n",
    "print(\"-\" * 30)"
   ]
  },
  {
   "cell_type": "code",
   "execution_count": 21,
   "id": "582a06ec-f73a-49c7-9ed0-e1d87f02fba6",
   "metadata": {},
   "outputs": [],
   "source": [
    "encoder = TransformerEncoder(\n",
    "    vocab_size=1000,\n",
    "    seq_len=10,\n",
    "    d_model=6,\n",
    "    nx=2,\n",
    "    n_heads=2,\n",
    "    hidden_size=2\n",
    ")"
   ]
  },
  {
   "cell_type": "code",
   "execution_count": 23,
   "id": "da0ddf21-3248-4c4f-8b60-4589c5178777",
   "metadata": {},
   "outputs": [],
   "source": [
    "x_encoder = encoder(x)"
   ]
  },
  {
   "cell_type": "code",
   "execution_count": 24,
   "id": "aa050764-359b-4e97-a3e6-2c2275010abe",
   "metadata": {},
   "outputs": [
    {
     "name": "stdout",
     "output_type": "stream",
     "text": [
      "Shape saida torch.Size([2, 3, 6])\n"
     ]
    }
   ],
   "source": [
    "print(f\"Shape saida {x_encoder.shape}\")"
   ]
  },
  {
   "cell_type": "code",
   "execution_count": 25,
   "id": "8f1de52b-7d53-4049-984f-b42c4f05e537",
   "metadata": {},
   "outputs": [
    {
     "data": {
      "text/plain": [
       "tensor([[[-1.6020,  0.8115,  0.3214, -0.9102,  0.0219,  1.3575],\n",
       "         [-0.6117, -1.8504,  0.3489,  0.9417,  0.0824,  1.0892],\n",
       "         [-0.2988, -1.0673, -0.2036,  0.1194, -0.6284,  2.0787]],\n",
       "\n",
       "        [[-0.6783, -1.8136,  0.7091, -0.0582,  0.7620,  1.0789],\n",
       "         [ 0.0130, -0.7409, -0.2270, -0.8691, -0.3088,  2.1328],\n",
       "         [-0.6622, -1.6079, -0.1048,  0.4377,  0.2988,  1.6383]]],\n",
       "       grad_fn=<NativeLayerNormBackward0>)"
      ]
     },
     "execution_count": 25,
     "metadata": {},
     "output_type": "execute_result"
    }
   ],
   "source": [
    "x_encoder"
   ]
  },
  {
   "cell_type": "code",
   "execution_count": null,
   "id": "d419982f-b7c8-42d2-8eb8-0947213fa912",
   "metadata": {},
   "outputs": [],
   "source": []
  }
 ],
 "metadata": {
  "kernelspec": {
   "display_name": "Python 3",
   "language": "python",
   "name": "python3"
  },
  "language_info": {
   "codemirror_mode": {
    "name": "ipython",
    "version": 3
   },
   "file_extension": ".py",
   "mimetype": "text/x-python",
   "name": "python",
   "nbconvert_exporter": "python",
   "pygments_lexer": "ipython3",
   "version": "3.10.10"
  }
 },
 "nbformat": 4,
 "nbformat_minor": 5
}
